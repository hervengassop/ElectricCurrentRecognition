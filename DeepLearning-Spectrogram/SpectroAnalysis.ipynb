{
 "cells": [
  {
   "cell_type": "code",
   "execution_count": 1,
   "metadata": {},
   "outputs": [
    {
     "name": "stderr",
     "output_type": "stream",
     "text": [
      "/Users/jeanlima/anaconda3/lib/python3.6/site-packages/h5py/__init__.py:36: FutureWarning: Conversion of the second argument of issubdtype from `float` to `np.floating` is deprecated. In future, it will be treated as `np.float64 == np.dtype(float).type`.\n",
      "  from ._conv import register_converters as _register_converters\n",
      "Using TensorFlow backend.\n",
      "/Users/jeanlima/anaconda3/lib/python3.6/importlib/_bootstrap.py:219: RuntimeWarning: compiletime version 3.5 of module 'tensorflow.python.framework.fast_tensor_util' does not match runtime version 3.6\n",
      "  return f(*args, **kwds)\n"
     ]
    }
   ],
   "source": [
    "from keras.models import Sequential\n",
    "from keras.layers import Convolution2D, MaxPooling2D, Flatten, Dense, Dropout\n",
    "from keras.preprocessing.image import ImageDataGenerator\n",
    "from keras.layers.advanced_activations import LeakyReLU"
   ]
  },
  {
   "cell_type": "code",
   "execution_count": 19,
   "metadata": {},
   "outputs": [],
   "source": [
    "classifier = Sequential()\n",
    "classifier.add(Convolution2D(32, kernel_size=(3, 3),activation='linear',input_shape=(64,64,3),padding='same'))\n",
    "classifier.add(Dropout(0.2))\n",
    "classifier.add(MaxPooling2D((2, 2),padding='same'))\n",
    "classifier.add(Convolution2D(64, (3, 3), activation='relu',padding='same'))\n",
    "classifier.add(MaxPooling2D(pool_size=(2, 2),padding='same'))\n",
    "classifier.add(Convolution2D(128, (3, 3), activation='relu',padding='same'))\n",
    "classifier.add(LeakyReLU(alpha=0.1))  \n",
    "classifier.add(Dropout(0.2))\n",
    "classifier.add(MaxPooling2D(pool_size=(2, 2),padding='same'))\n",
    "classifier.add(Flatten())\n",
    "classifier.add(Dense(128, activation='linear'))\n",
    "classifier.add(Dropout(0.5))\n",
    "classifier.add(LeakyReLU(alpha=0.1))                  \n",
    "classifier.add(Dense(15, activation='softmax'))"
   ]
  },
  {
   "cell_type": "code",
   "execution_count": 20,
   "metadata": {},
   "outputs": [],
   "source": [
    "classifier.compile(optimizer = 'adam', loss = 'categorical_crossentropy', metrics = ['accuracy'])"
   ]
  },
  {
   "cell_type": "code",
   "execution_count": 21,
   "metadata": {},
   "outputs": [],
   "source": [
    "train_datagen = ImageDataGenerator(rescale=1./255)\n",
    "\n",
    "test_datagen = ImageDataGenerator(rescale=1./255)"
   ]
  },
  {
   "cell_type": "code",
   "execution_count": 22,
   "metadata": {},
   "outputs": [
    {
     "name": "stdout",
     "output_type": "stream",
     "text": [
      "Found 2700 images belonging to 15 classes.\n",
      "Found 300 images belonging to 15 classes.\n"
     ]
    }
   ],
   "source": [
    "training_set = train_datagen.flow_from_directory(\n",
    "        '../CreatingSpectrogramDataset/Dataset-Train',\n",
    "        target_size=(64, 64),\n",
    "        batch_size=32,\n",
    "        class_mode='categorical')\n",
    "\n",
    "test_set = test_datagen.flow_from_directory(\n",
    "        '../CreatingSpectrogramDataset/Dataset-Test',\n",
    "        target_size=(64, 64),\n",
    "        batch_size=32,\n",
    "        class_mode='categorical')"
   ]
  },
  {
   "cell_type": "code",
   "execution_count": 23,
   "metadata": {},
   "outputs": [
    {
     "name": "stdout",
     "output_type": "stream",
     "text": [
      "Epoch 1/15\n",
      "84/84 [==============================] - 35s 413ms/step - loss: 2.4155 - acc: 0.1958 - val_loss: 1.9149 - val_acc: 0.3300\n",
      "Epoch 2/15\n",
      "84/84 [==============================] - 35s 420ms/step - loss: 1.4388 - acc: 0.4495 - val_loss: 1.1725 - val_acc: 0.5767\n",
      "Epoch 3/15\n",
      "84/84 [==============================] - 36s 426ms/step - loss: 1.0620 - acc: 0.5701 - val_loss: 0.9815 - val_acc: 0.5767\n",
      "Epoch 4/15\n",
      "84/84 [==============================] - 36s 431ms/step - loss: 0.8663 - acc: 0.6400 - val_loss: 0.6333 - val_acc: 0.8033\n",
      "Epoch 5/15\n",
      "84/84 [==============================] - 37s 435ms/step - loss: 0.7015 - acc: 0.7044 - val_loss: 0.4974 - val_acc: 0.8467\n",
      "Epoch 6/15\n",
      "84/84 [==============================] - 37s 436ms/step - loss: 0.6351 - acc: 0.7386 - val_loss: 0.4816 - val_acc: 0.8467\n",
      "Epoch 7/15\n",
      "84/84 [==============================] - 37s 439ms/step - loss: 0.5769 - acc: 0.7681 - val_loss: 0.4225 - val_acc: 0.8367\n",
      "Epoch 8/15\n",
      "84/84 [==============================] - 38s 447ms/step - loss: 0.5115 - acc: 0.7826 - val_loss: 0.3894 - val_acc: 0.8667\n",
      "Epoch 9/15\n",
      "84/84 [==============================] - 39s 468ms/step - loss: 0.4797 - acc: 0.8084 - val_loss: 0.7151 - val_acc: 0.7000\n",
      "Epoch 10/15\n",
      "84/84 [==============================] - 38s 457ms/step - loss: 0.4697 - acc: 0.8022 - val_loss: 0.4084 - val_acc: 0.8367\n",
      "Epoch 11/15\n",
      "84/84 [==============================] - 38s 448ms/step - loss: 0.4552 - acc: 0.8192 - val_loss: 0.4508 - val_acc: 0.8000\n",
      "Epoch 12/15\n",
      "84/84 [==============================] - 40s 471ms/step - loss: 0.4154 - acc: 0.8369 - val_loss: 0.3318 - val_acc: 0.8667\n",
      "Epoch 13/15\n",
      "84/84 [==============================] - 37s 446ms/step - loss: 0.4266 - acc: 0.8285 - val_loss: 0.3513 - val_acc: 0.8567\n",
      "Epoch 14/15\n",
      "84/84 [==============================] - 38s 450ms/step - loss: 0.3910 - acc: 0.8440 - val_loss: 0.4149 - val_acc: 0.8067\n",
      "Epoch 15/15\n",
      "84/84 [==============================] - 38s 449ms/step - loss: 0.3894 - acc: 0.8385 - val_loss: 0.3388 - val_acc: 0.8533\n"
     ]
    }
   ],
   "source": [
    "epochs = 15\n",
    "\n",
    "history = classifier.fit_generator(\n",
    "        training_set,\n",
    "        steps_per_epoch=2700//32,\n",
    "        epochs=epochs,\n",
    "        validation_data=test_set,\n",
    "        validation_steps=300//32,\n",
    "        verbose = 1)"
   ]
  },
  {
   "cell_type": "code",
   "execution_count": 25,
   "metadata": {},
   "outputs": [
    {
     "data": {
      "image/png": "[encoded data removed]",
      "text/plain": [
       "<Figure size 432x288 with 1 Axes>"
      ]
     },
     "metadata": {},
     "output_type": "display_data"
    }
   ],
   "source": [
    "import matplotlib.pyplot as plt\n",
    "\n",
    "history_dict = history.history\n",
    "loss_values = history_dict['loss']\n",
    "val_loss_values = history_dict['val_loss']\n",
    "\n",
    "epochs_x = range(1,  epochs+1)\n",
    "plt.plot(epochs_x, loss_values, 'bo', label='Training loss')\n",
    "plt.plot(epochs_x, val_loss_values, 'b', label='Validation loss')\n",
    "plt.title('Training and validation loss')\n",
    "plt.xlabel('Epochs')\n",
    "plt.ylabel('Loss')\n",
    "plt.legend()\n",
    "plt.show()"
   ]
  },
  {
   "cell_type": "code",
   "execution_count": 26,
   "metadata": {},
   "outputs": [
    {
     "data": {
      "image/png": "[encoded data removed]",
      "text/plain": [
       "<Figure size 432x288 with 1 Axes>"
      ]
     },
     "metadata": {},
     "output_type": "display_data"
    }
   ],
   "source": [
    "acc_values = history_dict['acc']\n",
    "val_acc_values = history_dict['val_acc']\n",
    "plt.plot(epochs_x, acc_values, 'bo', label='Training acc')\n",
    "plt.plot(epochs_x, val_acc_values, 'b', label='Validation acc')\n",
    "plt.title('Training and validation accuracy')\n",
    "plt.xlabel('Epochs')\n",
    "plt.ylabel('Loss')\n",
    "plt.legend()\n",
    "plt.show()"
   ]
  },
  {
   "cell_type": "code",
   "execution_count": 27,
   "metadata": {},
   "outputs": [
    {
     "name": "stdout",
     "output_type": "stream",
     "text": [
      "Found 300 images belonging to 15 classes.\n",
      "[[18  0  0  0  0  0  0  0  0  0  0  0  2  0  0]\n",
      " [ 0 18  0  0  0  0  0  0  0  0  0  0  0  2  0]\n",
      " [ 0  0 13  0  0  0  0  0  0  0  0  0  0  0  7]\n",
      " [ 0  0  0 20  0  0  0  0  0  0  0  0  0  0  0]\n",
      " [ 0  0  0  0 13  0  0  0  7  0  0  0  0  0  0]\n",
      " [ 0  0  0  0  0 15  0  0  0  5  0  0  0  0  0]\n",
      " [ 0  0  0  0  0  0 11  0  0  1  8  0  0  0  0]\n",
      " [ 0  0  0  0  0  0  0 20  0  0  0  0  0  0  0]\n",
      " [ 0  0  0  0  0  0  0  0 20  0  0  0  0  0  0]\n",
      " [ 0  0  1  0  0  2  0  0  0 17  0  0  0  0  0]\n",
      " [ 0  0  0  0  0  0  2  0  0  0 17  0  0  0  1]\n",
      " [ 0  0  0  0  0  0  0  0  0  0  0 20  0  0  0]\n",
      " [ 0  0  0  0  0  0  0  0  0  0  0  0 20  0  0]\n",
      " [ 0  1  1  0  0  0  0  0  0  0  0  0  0 18  0]\n",
      " [ 0  0  4  0  0  0  0  0  0  0  0  0  0  0 16]]\n",
      "                                           precision    recall  f1-score   support\n",
      "\n",
      "                                Geladeira       1.00      0.90      0.95        20\n",
      "                           Liquidificador       0.95      0.90      0.92        20\n",
      "                  LiquidificadorGeladeira       0.68      0.65      0.67        20\n",
      "                                 Notebook       1.00      1.00      1.00        20\n",
      "                        NotebookGeladeira       1.00      0.65      0.79        20\n",
      "                   NotebookLiquidificador       0.88      0.75      0.81        20\n",
      "          NotebookLiquidificadorGeladeira       0.85      0.55      0.67        20\n",
      "                       NotebookVentilador       1.00      1.00      1.00        20\n",
      "              NotebookVentiladorGeladeira       0.74      1.00      0.85        20\n",
      "         NotebookVentiladorLiquidificador       0.74      0.85      0.79        20\n",
      "NotebookVentiladorLiquidificadorGeladeira       0.68      0.85      0.76        20\n",
      "                               Ventilador       1.00      1.00      1.00        20\n",
      "                      VentiladorGeladeira       0.91      1.00      0.95        20\n",
      "                 VentiladorLiquidificador       0.90      0.90      0.90        20\n",
      "        VentiladorLiquidificadorGeladeira       0.67      0.80      0.73        20\n",
      "\n",
      "                                micro avg       0.85      0.85      0.85       300\n",
      "                                macro avg       0.87      0.85      0.85       300\n",
      "                             weighted avg       0.87      0.85      0.85       300\n",
      "\n"
     ]
    }
   ],
   "source": [
    "import pandas as pd\n",
    "import numpy as np\n",
    "predict_gen = test_datagen.flow_from_directory(directory='../CreatingSpectrogramDataset/Dataset-Test',\n",
    "                                                              target_size=[64,64],\n",
    "                                                              batch_size=4123,\n",
    "                                                              class_mode='categorical')\n",
    "\n",
    "X_val_sample, res = next(predict_gen)\n",
    "y_pred = classifier.predict(X_val_sample)\n",
    "#classifier.evaluate_generator(test_datagen, steps=1, max_queue_size=10, workers=1, use_multiprocessing=False, verbose=1)\n",
    "onedtrue = []\n",
    "onedpred = []\n",
    "for true, pred in zip(res, y_pred):\n",
    "    onedtrue.append(np.argmax(true))\n",
    "    onedpred.append(np.argmax(pred))\n",
    "    \n",
    "from sklearn.metrics import confusion_matrix\n",
    "print(confusion_matrix(onedtrue, onedpred))\n",
    "\n",
    "from sklearn.metrics import classification_report\n",
    "target_names = ['Geladeira', 'Liquidificador', 'LiquidificadorGeladeira',\n",
    "               'Notebook', 'NotebookGeladeira', 'NotebookLiquidificador',\n",
    "               'NotebookLiquidificadorGeladeira', 'NotebookVentilador',\n",
    "               'NotebookVentiladorGeladeira', 'NotebookVentiladorLiquidificador',\n",
    "               'NotebookVentiladorLiquidificadorGeladeira', 'Ventilador',\n",
    "               'VentiladorGeladeira', 'VentiladorLiquidificador',\n",
    "               'VentiladorLiquidificadorGeladeira']\n",
    "\n",
    "print(classification_report(onedtrue, onedpred, target_names=target_names))"
   ]
  },
  {
   "cell_type": "code",
   "execution_count": 28,
   "metadata": {},
   "outputs": [],
   "source": [
    "classifier.save('spectro-8533-basic.h5')"
   ]
  }
 ],
 "metadata": {
  "kernelspec": {
   "display_name": "Python 3",
   "language": "python",
   "name": "python3"
  },
  "language_info": {
   "codemirror_mode": {
    "name": "ipython",
    "version": 3
   },
   "file_extension": ".py",
   "mimetype": "text/x-python",
   "name": "python",
   "nbconvert_exporter": "python",
   "pygments_lexer": "ipython3",
   "version": "3.6.5"
  }
 },
 "nbformat": 4,
 "nbformat_minor": 2
}
