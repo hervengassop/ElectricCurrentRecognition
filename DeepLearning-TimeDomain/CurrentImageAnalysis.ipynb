{
 "cells": [
  {
   "cell_type": "code",
   "execution_count": 1,
   "metadata": {},
   "outputs": [
    {
     "name": "stderr",
     "output_type": "stream",
     "text": [
      "/Users/jeanlima/anaconda3/lib/python3.6/site-packages/h5py/__init__.py:36: FutureWarning: Conversion of the second argument of issubdtype from `float` to `np.floating` is deprecated. In future, it will be treated as `np.float64 == np.dtype(float).type`.\n",
      "  from ._conv import register_converters as _register_converters\n",
      "Using TensorFlow backend.\n",
      "/Users/jeanlima/anaconda3/lib/python3.6/importlib/_bootstrap.py:219: RuntimeWarning: compiletime version 3.5 of module 'tensorflow.python.framework.fast_tensor_util' does not match runtime version 3.6\n",
      "  return f(*args, **kwds)\n"
     ]
    }
   ],
   "source": [
    "from keras.models import Sequential\n",
    "from keras.layers import Convolution2D, MaxPooling2D, Flatten, Dense, Dropout\n",
    "from keras.preprocessing.image import ImageDataGenerator"
   ]
  },
  {
   "cell_type": "code",
   "execution_count": 9,
   "metadata": {},
   "outputs": [],
   "source": [
    "classifier = Sequential()\n",
    "classifier.add(Convolution2D(32, (3, 3), input_shape = (64, 64, 3), activation = 'tanh'))\n",
    "classifier.add(MaxPooling2D(pool_size = (2, 2)))\n",
    "classifier.add(Convolution2D(64, (3, 3),  activation = 'tanh'))\n",
    "classifier.add(Convolution2D(64, (3, 3),  activation = 'tanh'))\n",
    "classifier.add(MaxPooling2D(pool_size = (2, 2)))\n",
    "classifier.add(Convolution2D(128, (3, 3),  activation = 'tanh'))\n",
    "classifier.add(Convolution2D(128, (3, 3),  activation = 'tanh'))\n",
    "classifier.add(MaxPooling2D(pool_size = (2, 2)))\n",
    "classifier.add(Flatten())\n",
    "classifier.add(Dense(activation = 'relu', units = 512))\n",
    "classifier.add(Dropout(0.2))\n",
    "classifier.add(Dense(activation = 'relu', units = 256))\n",
    "classifier.add(Dropout(0.2))\n",
    "classifier.add(Dense(activation = 'softmax', units = 15))"
   ]
  },
  {
   "cell_type": "code",
   "execution_count": 10,
   "metadata": {},
   "outputs": [],
   "source": [
    "classifier.compile(optimizer = 'adam', loss = 'categorical_crossentropy', metrics = ['accuracy'])"
   ]
  },
  {
   "cell_type": "code",
   "execution_count": 11,
   "metadata": {},
   "outputs": [],
   "source": [
    "train_datagen = ImageDataGenerator(\n",
    "        rescale=1./255,\n",
    "        shear_range=0.2,\n",
    "        zoom_range=0.2,\n",
    "        horizontal_flip=True)\n",
    "\n",
    "test_datagen = ImageDataGenerator(rescale=1./255)"
   ]
  },
  {
   "cell_type": "code",
   "execution_count": 12,
   "metadata": {},
   "outputs": [
    {
     "name": "stdout",
     "output_type": "stream",
     "text": [
      "Found 2699 images belonging to 15 classes.\n",
      "Found 301 images belonging to 15 classes.\n"
     ]
    }
   ],
   "source": [
    "training_set = train_datagen.flow_from_directory(\n",
    "        '../CreatingDeepLearningDataset/TimeDomain/Dataset-Train',\n",
    "        target_size=(64, 64),\n",
    "        batch_size=32,\n",
    "        class_mode='categorical')\n",
    "\n",
    "test_set = test_datagen.flow_from_directory(\n",
    "        '../CreatingDeepLearningDataset/TimeDomain/Dataset-Test',\n",
    "        target_size=(64, 64),\n",
    "        batch_size=32,\n",
    "        class_mode='categorical')"
   ]
  },
  {
   "cell_type": "code",
   "execution_count": 13,
   "metadata": {},
   "outputs": [
    {
     "name": "stdout",
     "output_type": "stream",
     "text": [
      "Epoch 1/30\n",
      "84/84 [==============================] - 49s 584ms/step - loss: 2.2647 - acc: 0.1831 - val_loss: 1.5725 - val_acc: 0.3355\n",
      "Epoch 2/30\n",
      "84/84 [==============================] - 45s 536ms/step - loss: 1.2895 - acc: 0.4842 - val_loss: 1.0540 - val_acc: 0.4850\n",
      "Epoch 3/30\n",
      "84/84 [==============================] - 45s 535ms/step - loss: 0.9492 - acc: 0.5864 - val_loss: 0.7114 - val_acc: 0.6811\n",
      "Epoch 4/30\n",
      "84/84 [==============================] - 48s 569ms/step - loss: 0.7828 - acc: 0.6644 - val_loss: 0.6658 - val_acc: 0.6611\n",
      "Epoch 5/30\n",
      "84/84 [==============================] - 44s 522ms/step - loss: 0.7315 - acc: 0.6824 - val_loss: 0.8176 - val_acc: 0.6080\n",
      "Epoch 6/30\n",
      "84/84 [==============================] - 44s 529ms/step - loss: 0.6849 - acc: 0.7122 - val_loss: 0.5378 - val_acc: 0.7741\n",
      "Epoch 7/30\n",
      "84/84 [==============================] - 45s 531ms/step - loss: 0.6193 - acc: 0.7319 - val_loss: 0.4888 - val_acc: 0.8040\n",
      "Epoch 8/30\n",
      "84/84 [==============================] - 45s 537ms/step - loss: 0.5394 - acc: 0.7720 - val_loss: 0.4490 - val_acc: 0.8173\n",
      "Epoch 9/30\n",
      "84/84 [==============================] - 45s 534ms/step - loss: 0.4997 - acc: 0.7899 - val_loss: 0.4893 - val_acc: 0.7874\n",
      "Epoch 10/30\n",
      "84/84 [==============================] - 45s 536ms/step - loss: 0.4919 - acc: 0.7940 - val_loss: 0.5503 - val_acc: 0.7442\n",
      "Epoch 11/30\n",
      "84/84 [==============================] - 46s 543ms/step - loss: 0.4322 - acc: 0.8229 - val_loss: 0.4795 - val_acc: 0.7774\n",
      "Epoch 12/30\n",
      "84/84 [==============================] - 45s 537ms/step - loss: 0.4722 - acc: 0.7965 - val_loss: 0.3908 - val_acc: 0.8439\n",
      "Epoch 13/30\n",
      "84/84 [==============================] - 45s 541ms/step - loss: 0.4839 - acc: 0.8032 - val_loss: 0.6872 - val_acc: 0.7674\n",
      "Epoch 14/30\n",
      "84/84 [==============================] - 46s 542ms/step - loss: 0.4692 - acc: 0.7982 - val_loss: 0.4284 - val_acc: 0.8272\n",
      "Epoch 15/30\n",
      "84/84 [==============================] - 46s 542ms/step - loss: 0.4367 - acc: 0.8140 - val_loss: 0.4493 - val_acc: 0.8040\n",
      "Epoch 16/30\n",
      "84/84 [==============================] - 46s 544ms/step - loss: 0.4015 - acc: 0.8368 - val_loss: 0.4210 - val_acc: 0.8073\n",
      "Epoch 17/30\n",
      "84/84 [==============================] - 46s 544ms/step - loss: 0.3731 - acc: 0.8404 - val_loss: 0.3546 - val_acc: 0.8472\n",
      "Epoch 18/30\n",
      "84/84 [==============================] - 47s 554ms/step - loss: 0.3979 - acc: 0.8331 - val_loss: 0.3747 - val_acc: 0.8173\n",
      "Epoch 19/30\n",
      "84/84 [==============================] - 46s 553ms/step - loss: 0.3719 - acc: 0.8479 - val_loss: 0.4274 - val_acc: 0.8206\n",
      "Epoch 20/30\n",
      "84/84 [==============================] - 47s 556ms/step - loss: 0.3727 - acc: 0.8422 - val_loss: 0.3697 - val_acc: 0.8439\n",
      "Epoch 21/30\n",
      "84/84 [==============================] - 48s 576ms/step - loss: 0.3537 - acc: 0.8460 - val_loss: 0.4230 - val_acc: 0.8372\n",
      "Epoch 22/30\n",
      "84/84 [==============================] - 66s 781ms/step - loss: 0.3362 - acc: 0.8624 - val_loss: 0.4358 - val_acc: 0.8239\n",
      "Epoch 23/30\n",
      "84/84 [==============================] - 143s 2s/step - loss: 0.3161 - acc: 0.8709 - val_loss: 0.3341 - val_acc: 0.8771\n",
      "Epoch 24/30\n",
      "84/84 [==============================] - 66s 783ms/step - loss: 0.3404 - acc: 0.8580 - val_loss: 0.2983 - val_acc: 0.8771\n",
      "Epoch 25/30\n",
      "84/84 [==============================] - 43s 514ms/step - loss: 0.3183 - acc: 0.8669 - val_loss: 0.3276 - val_acc: 0.8738\n",
      "Epoch 26/30\n",
      "84/84 [==============================] - 43s 515ms/step - loss: 0.3234 - acc: 0.8675 - val_loss: 0.2993 - val_acc: 0.8638\n",
      "Epoch 27/30\n",
      "84/84 [==============================] - 48s 568ms/step - loss: 0.3149 - acc: 0.8575 - val_loss: 0.3238 - val_acc: 0.8571\n",
      "Epoch 28/30\n",
      "84/84 [==============================] - 50s 595ms/step - loss: 0.3806 - acc: 0.8394 - val_loss: 0.3407 - val_acc: 0.8638\n",
      "Epoch 29/30\n",
      "84/84 [==============================] - 47s 564ms/step - loss: 0.3168 - acc: 0.8672 - val_loss: 0.5912 - val_acc: 0.8073\n",
      "Epoch 30/30\n",
      "84/84 [==============================] - 45s 536ms/step - loss: 0.3015 - acc: 0.8784 - val_loss: 0.4167 - val_acc: 0.8439\n"
     ]
    },
    {
     "data": {
      "text/plain": [
       "<keras.callbacks.History at 0xb24bd96a0>"
      ]
     },
     "execution_count": 13,
     "metadata": {},
     "output_type": "execute_result"
    }
   ],
   "source": [
    "classifier.fit_generator(\n",
    "        training_set,\n",
    "        steps_per_epoch=2699//32,\n",
    "        epochs=30,\n",
    "        validation_data=test_set,\n",
    "        validation_steps=301//32)"
   ]
  },
  {
   "cell_type": "code",
   "execution_count": 14,
   "metadata": {},
   "outputs": [
    {
     "name": "stdout",
     "output_type": "stream",
     "text": [
      "Epoch 1/5\n",
      "84/84 [==============================] - 41s 493ms/step - loss: 0.3050 - acc: 0.8702 - val_loss: 0.3889 - val_acc: 0.8472\n",
      "Epoch 2/5\n",
      "84/84 [==============================] - 45s 535ms/step - loss: 0.3190 - acc: 0.8743 - val_loss: 0.4082 - val_acc: 0.8372\n",
      "Epoch 3/5\n",
      "84/84 [==============================] - 44s 526ms/step - loss: 0.3004 - acc: 0.8740 - val_loss: 0.4638 - val_acc: 0.8206\n",
      "Epoch 4/5\n",
      "84/84 [==============================] - 46s 552ms/step - loss: 0.2854 - acc: 0.8784 - val_loss: 0.2423 - val_acc: 0.8671\n",
      "Epoch 5/5\n",
      "84/84 [==============================] - 44s 527ms/step - loss: 0.2629 - acc: 0.8903 - val_loss: 0.3529 - val_acc: 0.8339\n"
     ]
    },
    {
     "data": {
      "text/plain": [
       "<keras.callbacks.History at 0xb24893518>"
      ]
     },
     "execution_count": 14,
     "metadata": {},
     "output_type": "execute_result"
    }
   ],
   "source": [
    "classifier.fit_generator(\n",
    "        training_set,\n",
    "        steps_per_epoch=2699//32,\n",
    "        epochs=5,\n",
    "        validation_data=test_set,\n",
    "        validation_steps=301//32)"
   ]
  },
  {
   "cell_type": "code",
   "execution_count": 15,
   "metadata": {},
   "outputs": [
    {
     "name": "stdout",
     "output_type": "stream",
     "text": [
      "Epoch 1/5\n",
      "84/84 [==============================] - 44s 519ms/step - loss: 0.3164 - acc: 0.8702 - val_loss: 0.4689 - val_acc: 0.8173\n",
      "Epoch 2/5\n",
      "84/84 [==============================] - 44s 520ms/step - loss: 0.3177 - acc: 0.8750 - val_loss: 0.2629 - val_acc: 0.9037\n",
      "Epoch 3/5\n",
      "84/84 [==============================] - 44s 524ms/step - loss: 0.3292 - acc: 0.8698 - val_loss: 0.3461 - val_acc: 0.8538\n",
      "Epoch 4/5\n",
      "84/84 [==============================] - 44s 529ms/step - loss: 0.2826 - acc: 0.8884 - val_loss: 0.4939 - val_acc: 0.8206\n",
      "Epoch 5/5\n",
      "84/84 [==============================] - 44s 523ms/step - loss: 0.2795 - acc: 0.8854 - val_loss: 0.3178 - val_acc: 0.8837\n"
     ]
    },
    {
     "data": {
      "text/plain": [
       "<keras.callbacks.History at 0xb24893160>"
      ]
     },
     "execution_count": 15,
     "metadata": {},
     "output_type": "execute_result"
    }
   ],
   "source": [
    "classifier.fit_generator(\n",
    "        training_set,\n",
    "        steps_per_epoch=2699//32,\n",
    "        epochs=5,\n",
    "        validation_data=test_set,\n",
    "        validation_steps=301//32)"
   ]
  },
  {
   "cell_type": "code",
   "execution_count": 20,
   "metadata": {},
   "outputs": [
    {
     "name": "stdout",
     "output_type": "stream",
     "text": [
      "Found 301 images belonging to 15 classes.\n",
      "[[17  0  0  0  0  0  0  0  0  0  0  0  3  0  0]\n",
      " [ 0 19  0  0  0  1  0  0  0  0  0  0  0  0  0]\n",
      " [ 0  0 15  0  0  0  1  0  0  0  0  0  0  0  4]\n",
      " [ 0  0  0 19  0  0  0  1  0  0  0  0  0  0  0]\n",
      " [ 0  0  0  0 14  0  0  0  6  0  0  0  0  0  0]\n",
      " [ 0  0  0  0  0 16  0  0  0  4  0  0  0  1  0]\n",
      " [ 0  0  0  0  0  0 18  0  0  0  2  0  0  0  0]\n",
      " [ 0  0  0  0  0  0  0 20  0  0  0  0  0  0  0]\n",
      " [ 0  0  0  0  0  0  0  0 20  0  0  0  0  0  0]\n",
      " [ 0  0  0  0  0  1  0  0  0 19  0  0  0  0  0]\n",
      " [ 0  0  0  0  0  0  5  0  0  0 14  0  0  0  1]\n",
      " [ 0  0  0  0  0  0  0  0  0  0  0 20  0  0  0]\n",
      " [ 0  0  0  0  0  0  0  0  0  0  0  0 20  0  0]\n",
      " [ 0  1  0  0  0  1  0  0  0  0  0  0  0 18  0]\n",
      " [ 0  0  3  0  0  0  0  0  0  0  0  0  0  0 17]]\n",
      "                                           precision    recall  f1-score   support\n",
      "\n",
      "                                Geladeira       1.00      0.85      0.92        20\n",
      "                           Liquidificador       0.95      0.95      0.95        20\n",
      "                  LiquidificadorGeladeira       0.83      0.75      0.79        20\n",
      "                                 Notebook       1.00      0.95      0.97        20\n",
      "                        NotebookGeladeira       1.00      0.70      0.82        20\n",
      "                   NotebookLiquidificador       0.84      0.76      0.80        21\n",
      "          NotebookLiquidificadorGeladeira       0.75      0.90      0.82        20\n",
      "                       NotebookVentilador       0.95      1.00      0.98        20\n",
      "              NotebookVentiladorGeladeira       0.77      1.00      0.87        20\n",
      "         NotebookVentiladorLiquidificador       0.83      0.95      0.88        20\n",
      "NotebookVentiladorLiquidificadorGeladeira       0.88      0.70      0.78        20\n",
      "                               Ventilador       1.00      1.00      1.00        20\n",
      "                      VentiladorGeladeira       0.87      1.00      0.93        20\n",
      "                 VentiladorLiquidificador       0.95      0.90      0.92        20\n",
      "        VentiladorLiquidificadorGeladeira       0.77      0.85      0.81        20\n",
      "\n",
      "                                micro avg       0.88      0.88      0.88       301\n",
      "                                macro avg       0.89      0.88      0.88       301\n",
      "                             weighted avg       0.89      0.88      0.88       301\n",
      "\n"
     ]
    }
   ],
   "source": [
    "import pandas as pd\n",
    "import numpy as np\n",
    "predict_gen = test_datagen.flow_from_directory(directory='../CreatingDeepLearningDataset/TimeDomain/Dataset-Test',\n",
    "                                                              target_size=[64,64],\n",
    "                                                              batch_size=4123,\n",
    "                                                              class_mode='categorical')\n",
    "\n",
    "X_val_sample, res = next(predict_gen)\n",
    "y_pred = classifier.predict(X_val_sample)\n",
    "#classifier.evaluate_generator(test_datagen, steps=1, max_queue_size=10, workers=1, use_multiprocessing=False, verbose=1)\n",
    "onedtrue = []\n",
    "onedpred = []\n",
    "for true, pred in zip(res, y_pred):\n",
    "    onedtrue.append(np.argmax(true))\n",
    "    onedpred.append(np.argmax(pred))\n",
    "from sklearn.metrics import confusion_matrix\n",
    "print(confusion_matrix(onedtrue, onedpred))\n",
    "from sklearn.metrics import classification_report\n",
    "target_names = ['Geladeira', 'Liquidificador', 'LiquidificadorGeladeira',\n",
    "               'Notebook', 'NotebookGeladeira', 'NotebookLiquidificador',\n",
    "               'NotebookLiquidificadorGeladeira', 'NotebookVentilador',\n",
    "               'NotebookVentiladorGeladeira', 'NotebookVentiladorLiquidificador',\n",
    "               'NotebookVentiladorLiquidificadorGeladeira', 'Ventilador',\n",
    "               'VentiladorGeladeira', 'VentiladorLiquidificador',\n",
    "               'VentiladorLiquidificadorGeladeira']\n",
    "\n",
    "print(classification_report(onedtrue, onedpred, target_names=target_names))"
   ]
  },
  {
   "cell_type": "code",
   "execution_count": 21,
   "metadata": {},
   "outputs": [],
   "source": [
    "classifier.save('timedomain-88-basic.h5')"
   ]
  }
 ],
 "metadata": {
  "kernelspec": {
   "display_name": "Python 3",
   "language": "python",
   "name": "python3"
  },
  "language_info": {
   "codemirror_mode": {
    "name": "ipython",
    "version": 3
   },
   "file_extension": ".py",
   "mimetype": "text/x-python",
   "name": "python",
   "nbconvert_exporter": "python",
   "pygments_lexer": "ipython3",
   "version": "3.6.5"
  }
 },
 "nbformat": 4,
 "nbformat_minor": 2
}
