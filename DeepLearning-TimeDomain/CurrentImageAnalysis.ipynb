{
 "cells": [
  {
   "cell_type": "code",
   "execution_count": 1,
   "metadata": {},
   "outputs": [
    {
     "name": "stderr",
     "output_type": "stream",
     "text": [
      "/Users/jeanlima/anaconda3/lib/python3.6/site-packages/h5py/__init__.py:36: FutureWarning: Conversion of the second argument of issubdtype from `float` to `np.floating` is deprecated. In future, it will be treated as `np.float64 == np.dtype(float).type`.\n",
      "  from ._conv import register_converters as _register_converters\n",
      "Using TensorFlow backend.\n",
      "/Users/jeanlima/anaconda3/lib/python3.6/importlib/_bootstrap.py:219: RuntimeWarning: compiletime version 3.5 of module 'tensorflow.python.framework.fast_tensor_util' does not match runtime version 3.6\n",
      "  return f(*args, **kwds)\n"
     ]
    }
   ],
   "source": [
    "from keras.models import Sequential\n",
    "from keras.layers import Convolution2D, MaxPooling2D, Flatten, Dense, Dropout\n",
    "from keras.preprocessing.image import ImageDataGenerator\n",
    "from keras.layers.advanced_activations import LeakyReLU"
   ]
  },
  {
   "cell_type": "code",
   "execution_count": 2,
   "metadata": {},
   "outputs": [],
   "source": [
    "classifier = Sequential()\n",
    "classifier.add(Convolution2D(32, kernel_size=(3, 3),activation='linear',input_shape=(64,64,3),padding='same'))\n",
    "classifier.add(LeakyReLU(alpha=0.1))\n",
    "classifier.add(MaxPooling2D((2, 2),padding='same'))\n",
    "classifier.add(Convolution2D(64, (3, 3), activation='linear',padding='same'))\n",
    "classifier.add(LeakyReLU(alpha=0.1))\n",
    "classifier.add(MaxPooling2D(pool_size=(2, 2),padding='same'))\n",
    "classifier.add(Convolution2D(128, (3, 3), activation='linear',padding='same'))\n",
    "classifier.add(LeakyReLU(alpha=0.1))                  \n",
    "classifier.add(MaxPooling2D(pool_size=(2, 2),padding='same'))\n",
    "classifier.add(Flatten())\n",
    "classifier.add(Dense(128, activation='linear'))\n",
    "classifier.add(LeakyReLU(alpha=0.1))                  \n",
    "classifier.add(Dense(15, activation='softmax'))"
   ]
  },
  {
   "cell_type": "code",
   "execution_count": 47,
   "metadata": {},
   "outputs": [],
   "source": [
    "classifier.compile(optimizer = 'adam', loss = 'categorical_crossentropy', metrics = ['accuracy'])"
   ]
  },
  {
   "cell_type": "code",
   "execution_count": 48,
   "metadata": {},
   "outputs": [],
   "source": [
    "train_datagen = ImageDataGenerator(rescale=1./255)\n",
    "\n",
    "test_datagen = ImageDataGenerator(rescale=1./255)"
   ]
  },
  {
   "cell_type": "code",
   "execution_count": 49,
   "metadata": {},
   "outputs": [
    {
     "name": "stdout",
     "output_type": "stream",
     "text": [
      "Found 2700 images belonging to 15 classes.\n",
      "Found 300 images belonging to 15 classes.\n"
     ]
    }
   ],
   "source": [
    "training_set = train_datagen.flow_from_directory(\n",
    "        '../CreatingDeepLearningDataset/TimeDomain/Dataset-Train',\n",
    "        target_size=(64, 64),\n",
    "        batch_size=32,\n",
    "        class_mode='categorical')\n",
    "\n",
    "test_set = test_datagen.flow_from_directory(\n",
    "        '../CreatingDeepLearningDataset/TimeDomain/Dataset-Test',\n",
    "        target_size=(64, 64),\n",
    "        batch_size=32,\n",
    "        class_mode='categorical')"
   ]
  },
  {
   "cell_type": "code",
   "execution_count": 50,
   "metadata": {},
   "outputs": [
    {
     "name": "stdout",
     "output_type": "stream",
     "text": [
      "Epoch 1/15\n",
      "84/84 [==============================] - 41s 489ms/step - loss: 2.1264 - acc: 0.2496 - val_loss: 1.2309 - val_acc: 0.5467\n",
      "Epoch 2/15\n",
      "84/84 [==============================] - 41s 483ms/step - loss: 0.7815 - acc: 0.7005 - val_loss: 0.4368 - val_acc: 0.8067\n",
      "Epoch 3/15\n",
      "84/84 [==============================] - 37s 445ms/step - loss: 0.4984 - acc: 0.7945 - val_loss: 0.4114 - val_acc: 0.8200\n",
      "Epoch 4/15\n",
      "84/84 [==============================] - 38s 447ms/step - loss: 0.3385 - acc: 0.8632 - val_loss: 0.4329 - val_acc: 0.8400\n",
      "Epoch 5/15\n",
      "84/84 [==============================] - 44s 522ms/step - loss: 0.3093 - acc: 0.8737 - val_loss: 0.2417 - val_acc: 0.8933\n",
      "Epoch 6/15\n",
      "84/84 [==============================] - 43s 506ms/step - loss: 0.2235 - acc: 0.9093 - val_loss: 0.2115 - val_acc: 0.9100\n",
      "Epoch 7/15\n",
      "84/84 [==============================] - 43s 515ms/step - loss: 0.1873 - acc: 0.9289 - val_loss: 0.2197 - val_acc: 0.9167\n",
      "Epoch 8/15\n",
      "84/84 [==============================] - 44s 519ms/step - loss: 0.1600 - acc: 0.9338 - val_loss: 0.2927 - val_acc: 0.8767\n",
      "Epoch 9/15\n",
      "84/84 [==============================] - 45s 533ms/step - loss: 0.1550 - acc: 0.9390 - val_loss: 0.2519 - val_acc: 0.9000\n",
      "Epoch 10/15\n",
      "84/84 [==============================] - 44s 529ms/step - loss: 0.1104 - acc: 0.9557 - val_loss: 0.2729 - val_acc: 0.9033\n",
      "Epoch 11/15\n",
      "84/84 [==============================] - 43s 515ms/step - loss: 0.0891 - acc: 0.9643 - val_loss: 0.2216 - val_acc: 0.9100\n",
      "Epoch 12/15\n",
      "84/84 [==============================] - 38s 457ms/step - loss: 0.0945 - acc: 0.9639 - val_loss: 0.2252 - val_acc: 0.9133\n",
      "Epoch 13/15\n",
      "84/84 [==============================] - 35s 414ms/step - loss: 0.0609 - acc: 0.9780 - val_loss: 0.3355 - val_acc: 0.8800\n",
      "Epoch 14/15\n",
      "84/84 [==============================] - 35s 418ms/step - loss: 0.0397 - acc: 0.9851 - val_loss: 0.2161 - val_acc: 0.9100\n",
      "Epoch 15/15\n",
      "84/84 [==============================] - 35s 411ms/step - loss: 0.0286 - acc: 0.9922 - val_loss: 0.2267 - val_acc: 0.9000\n"
     ]
    }
   ],
   "source": [
    "epochs = 15\n",
    "\n",
    "history = classifier.fit_generator(\n",
    "        training_set,\n",
    "        steps_per_epoch=2700//32,\n",
    "        epochs=epochs,\n",
    "        validation_data=test_set,\n",
    "        validation_steps=300//32,\n",
    "        verbose = 1)"
   ]
  },
  {
   "cell_type": "code",
   "execution_count": 51,
   "metadata": {},
   "outputs": [
    {
     "data": {
      "image/png": "[encoded data removed]",
      "text/plain": [
       "<Figure size 432x288 with 1 Axes>"
      ]
     },
     "metadata": {},
     "output_type": "display_data"
    }
   ],
   "source": [
    "import matplotlib.pyplot as plt\n",
    "\n",
    "history_dict = history.history\n",
    "loss_values = history_dict['loss']\n",
    "val_loss_values = history_dict['val_loss']\n",
    "\n",
    "epochs_x = range(1,  epochs+1)\n",
    "plt.plot(epochs_x, loss_values, 'bo', label='Training loss')\n",
    "plt.plot(epochs_x, val_loss_values, 'b', label='Validation loss')\n",
    "plt.title('Training and validation loss')\n",
    "plt.xlabel('Epochs')\n",
    "plt.ylabel('Loss')\n",
    "plt.legend()\n",
    "plt.show()"
   ]
  },
  {
   "cell_type": "code",
   "execution_count": 52,
   "metadata": {},
   "outputs": [
    {
     "data": {
      "image/png": "[encoded data removed]",
      "text/plain": [
       "<Figure size 432x288 with 1 Axes>"
      ]
     },
     "metadata": {},
     "output_type": "display_data"
    }
   ],
   "source": [
    "acc_values = history_dict['acc']\n",
    "val_acc_values = history_dict['val_acc']\n",
    "plt.plot(epochs_x, acc_values, 'bo', label='Training acc')\n",
    "plt.plot(epochs_x, val_acc_values, 'b', label='Validation acc')\n",
    "plt.title('Training and validation accuracy')\n",
    "plt.xlabel('Epochs')\n",
    "plt.ylabel('Loss')\n",
    "plt.legend()\n",
    "plt.show()"
   ]
  },
  {
   "cell_type": "code",
   "execution_count": 40,
   "metadata": {},
   "outputs": [
    {
     "name": "stdout",
     "output_type": "stream",
     "text": [
      "Found 300 images belonging to 15 classes.\n",
      "[[20  0  0  0  0  0  0  0  0  0  0  0  0  0  0]\n",
      " [ 1 18  0  0  0  0  0  0  0  0  0  0  0  1  0]\n",
      " [ 0  0 14  0  0  0  1  0  0  0  0  0  0  0  5]\n",
      " [ 0  0  0 20  0  0  0  0  0  0  0  0  0  0  0]\n",
      " [ 0  0  0  0 18  0  0  0  2  0  0  0  0  0  0]\n",
      " [ 0  0  0  0  0 19  0  0  0  1  0  0  0  0  0]\n",
      " [ 0  0  0  0  0  0 16  0  0  0  4  0  0  0  0]\n",
      " [ 0  0  0  0  0  0  0 20  0  0  0  0  0  0  0]\n",
      " [ 0  0  0  0  1  0  0  0 19  0  0  0  0  0  0]\n",
      " [ 0  0  0  0  0  3  0  0  0 17  0  0  0  0  0]\n",
      " [ 0  0  0  0  0  0  2  0  0  0 18  0  0  0  0]\n",
      " [ 0  0  0  0  0  0  0  0  0  0  0 20  0  0  0]\n",
      " [ 1  0  0  0  0  0  0  0  0  0  0  0 19  0  0]\n",
      " [ 0  2  0  0  0  0  0  0  0  0  0  0  0 18  0]\n",
      " [ 0  0  1  0  0  0  0  0  0  0  0  0  0  0 19]]\n",
      "                                           precision    recall  f1-score   support\n",
      "\n",
      "                                Geladeira       0.91      1.00      0.95        20\n",
      "                           Liquidificador       0.90      0.90      0.90        20\n",
      "                  LiquidificadorGeladeira       0.93      0.70      0.80        20\n",
      "                                 Notebook       1.00      1.00      1.00        20\n",
      "                        NotebookGeladeira       0.95      0.90      0.92        20\n",
      "                   NotebookLiquidificador       0.86      0.95      0.90        20\n",
      "          NotebookLiquidificadorGeladeira       0.84      0.80      0.82        20\n",
      "                       NotebookVentilador       1.00      1.00      1.00        20\n",
      "              NotebookVentiladorGeladeira       0.90      0.95      0.93        20\n",
      "         NotebookVentiladorLiquidificador       0.94      0.85      0.89        20\n",
      "NotebookVentiladorLiquidificadorGeladeira       0.82      0.90      0.86        20\n",
      "                               Ventilador       1.00      1.00      1.00        20\n",
      "                      VentiladorGeladeira       1.00      0.95      0.97        20\n",
      "                 VentiladorLiquidificador       0.95      0.90      0.92        20\n",
      "        VentiladorLiquidificadorGeladeira       0.79      0.95      0.86        20\n",
      "\n",
      "                                micro avg       0.92      0.92      0.92       300\n",
      "                                macro avg       0.92      0.92      0.92       300\n",
      "                             weighted avg       0.92      0.92      0.92       300\n",
      "\n"
     ]
    }
   ],
   "source": [
    "import pandas as pd\n",
    "import numpy as np\n",
    "predict_gen = test_datagen.flow_from_directory(directory='../CreatingDeepLearningDataset/TimeDomain/Dataset-Test',\n",
    "                                                              target_size=[64,64],\n",
    "                                                              batch_size=4123,\n",
    "                                                              class_mode='categorical')\n",
    "\n",
    "X_val_sample, res = next(predict_gen)\n",
    "y_pred = classifier.predict(X_val_sample)\n",
    "#classifier.evaluate_generator(test_datagen, steps=1, max_queue_size=10, workers=1, use_multiprocessing=False, verbose=1)\n",
    "onedtrue = []\n",
    "onedpred = []\n",
    "for true, pred in zip(res, y_pred):\n",
    "    onedtrue.append(np.argmax(true))\n",
    "    onedpred.append(np.argmax(pred))\n",
    "    \n",
    "from sklearn.metrics import confusion_matrix\n",
    "print(confusion_matrix(onedtrue, onedpred))\n",
    "\n",
    "from sklearn.metrics import classification_report\n",
    "target_names = ['Geladeira', 'Liquidificador', 'LiquidificadorGeladeira',\n",
    "               'Notebook', 'NotebookGeladeira', 'NotebookLiquidificador',\n",
    "               'NotebookLiquidificadorGeladeira', 'NotebookVentilador',\n",
    "               'NotebookVentiladorGeladeira', 'NotebookVentiladorLiquidificador',\n",
    "               'NotebookVentiladorLiquidificadorGeladeira', 'Ventilador',\n",
    "               'VentiladorGeladeira', 'VentiladorLiquidificador',\n",
    "               'VentiladorLiquidificadorGeladeira']\n",
    "\n",
    "print(classification_report(onedtrue, onedpred, target_names=target_names))"
   ]
  },
  {
   "cell_type": "code",
   "execution_count": 22,
   "metadata": {},
   "outputs": [],
   "source": [
    "classifier.save('timedomain-9302-basic.h5')"
   ]
  }
 ],
 "metadata": {
  "kernelspec": {
   "display_name": "Python 3",
   "language": "python",
   "name": "python3"
  },
  "language_info": {
   "codemirror_mode": {
    "name": "ipython",
    "version": 3
   },
   "file_extension": ".py",
   "mimetype": "text/x-python",
   "name": "python",
   "nbconvert_exporter": "python",
   "pygments_lexer": "ipython3",
   "version": "3.6.5"
  }
 },
 "nbformat": 4,
 "nbformat_minor": 2
}
