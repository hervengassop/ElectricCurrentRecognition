{
 "cells": [
  {
   "cell_type": "markdown",
   "metadata": {},
   "source": [
    "## Bibliotecas"
   ]
  },
  {
   "cell_type": "code",
   "execution_count": 1,
   "metadata": {},
   "outputs": [],
   "source": [
    "import pandas as pd\n",
    "import numpy as np\n",
    "from sklearn.model_selection import train_test_split\n",
    "from sklearn.neighbors import KNeighborsClassifier\n",
    "from sklearn.neighbors import NearestCentroid\n",
    "from sklearn.neural_network import MLPClassifier\n",
    "from sklearn.naive_bayes import GaussianNB\n",
    "from sklearn.metrics import confusion_matrix, accuracy_score\n",
    "import matplotlib.pyplot as plt\n",
    "import itertools\n",
    "import heapq"
   ]
  },
  {
   "cell_type": "markdown",
   "metadata": {},
   "source": [
    "## Dataset Original"
   ]
  },
  {
   "cell_type": "code",
   "execution_count": 2,
   "metadata": {},
   "outputs": [
    {
     "data": {
      "text/html": [
       "<div>\n",
       "<style scoped>\n",
       "    .dataframe tbody tr th:only-of-type {\n",
       "        vertical-align: middle;\n",
       "    }\n",
       "\n",
       "    .dataframe tbody tr th {\n",
       "        vertical-align: top;\n",
       "    }\n",
       "\n",
       "    .dataframe thead th {\n",
       "        text-align: right;\n",
       "    }\n",
       "</style>\n",
       "<table border=\"1\" class=\"dataframe\">\n",
       "  <thead>\n",
       "    <tr style=\"text-align: right;\">\n",
       "      <th></th>\n",
       "      <th>0</th>\n",
       "      <th>1</th>\n",
       "      <th>2</th>\n",
       "      <th>3</th>\n",
       "      <th>4</th>\n",
       "      <th>5</th>\n",
       "      <th>6</th>\n",
       "      <th>7</th>\n",
       "      <th>8</th>\n",
       "      <th>9</th>\n",
       "      <th>...</th>\n",
       "      <th>291</th>\n",
       "      <th>292</th>\n",
       "      <th>293</th>\n",
       "      <th>294</th>\n",
       "      <th>295</th>\n",
       "      <th>296</th>\n",
       "      <th>297</th>\n",
       "      <th>298</th>\n",
       "      <th>299</th>\n",
       "      <th>Device</th>\n",
       "    </tr>\n",
       "  </thead>\n",
       "  <tbody>\n",
       "    <tr>\n",
       "      <th>0</th>\n",
       "      <td>0.0</td>\n",
       "      <td>1.66</td>\n",
       "      <td>1.84</td>\n",
       "      <td>2.09</td>\n",
       "      <td>1.66</td>\n",
       "      <td>1.24</td>\n",
       "      <td>0.71</td>\n",
       "      <td>0.00</td>\n",
       "      <td>0.60</td>\n",
       "      <td>0.0</td>\n",
       "      <td>...</td>\n",
       "      <td>0.0</td>\n",
       "      <td>0.0</td>\n",
       "      <td>0.0</td>\n",
       "      <td>0.0</td>\n",
       "      <td>0.0</td>\n",
       "      <td>0.0</td>\n",
       "      <td>0.0</td>\n",
       "      <td>0.0</td>\n",
       "      <td>0.0</td>\n",
       "      <td>Notebook</td>\n",
       "    </tr>\n",
       "    <tr>\n",
       "      <th>1</th>\n",
       "      <td>0.0</td>\n",
       "      <td>1.31</td>\n",
       "      <td>1.13</td>\n",
       "      <td>1.59</td>\n",
       "      <td>1.74</td>\n",
       "      <td>1.56</td>\n",
       "      <td>1.35</td>\n",
       "      <td>1.03</td>\n",
       "      <td>0.64</td>\n",
       "      <td>0.0</td>\n",
       "      <td>...</td>\n",
       "      <td>0.0</td>\n",
       "      <td>0.0</td>\n",
       "      <td>0.0</td>\n",
       "      <td>0.0</td>\n",
       "      <td>0.0</td>\n",
       "      <td>0.0</td>\n",
       "      <td>0.0</td>\n",
       "      <td>0.0</td>\n",
       "      <td>0.0</td>\n",
       "      <td>Notebook</td>\n",
       "    </tr>\n",
       "    <tr>\n",
       "      <th>2</th>\n",
       "      <td>0.0</td>\n",
       "      <td>0.96</td>\n",
       "      <td>1.74</td>\n",
       "      <td>1.70</td>\n",
       "      <td>2.02</td>\n",
       "      <td>1.66</td>\n",
       "      <td>1.06</td>\n",
       "      <td>0.53</td>\n",
       "      <td>0.00</td>\n",
       "      <td>0.0</td>\n",
       "      <td>...</td>\n",
       "      <td>0.0</td>\n",
       "      <td>0.0</td>\n",
       "      <td>0.0</td>\n",
       "      <td>0.0</td>\n",
       "      <td>0.0</td>\n",
       "      <td>0.0</td>\n",
       "      <td>0.0</td>\n",
       "      <td>0.0</td>\n",
       "      <td>0.0</td>\n",
       "      <td>Notebook</td>\n",
       "    </tr>\n",
       "    <tr>\n",
       "      <th>3</th>\n",
       "      <td>0.0</td>\n",
       "      <td>1.24</td>\n",
       "      <td>2.27</td>\n",
       "      <td>2.02</td>\n",
       "      <td>1.95</td>\n",
       "      <td>1.56</td>\n",
       "      <td>1.13</td>\n",
       "      <td>0.67</td>\n",
       "      <td>0.00</td>\n",
       "      <td>0.0</td>\n",
       "      <td>...</td>\n",
       "      <td>0.0</td>\n",
       "      <td>0.0</td>\n",
       "      <td>0.0</td>\n",
       "      <td>0.0</td>\n",
       "      <td>0.0</td>\n",
       "      <td>0.0</td>\n",
       "      <td>0.0</td>\n",
       "      <td>0.0</td>\n",
       "      <td>0.0</td>\n",
       "      <td>Notebook</td>\n",
       "    </tr>\n",
       "    <tr>\n",
       "      <th>4</th>\n",
       "      <td>0.0</td>\n",
       "      <td>1.70</td>\n",
       "      <td>1.77</td>\n",
       "      <td>1.98</td>\n",
       "      <td>1.81</td>\n",
       "      <td>1.13</td>\n",
       "      <td>0.78</td>\n",
       "      <td>0.71</td>\n",
       "      <td>0.00</td>\n",
       "      <td>0.0</td>\n",
       "      <td>...</td>\n",
       "      <td>0.0</td>\n",
       "      <td>0.0</td>\n",
       "      <td>0.0</td>\n",
       "      <td>0.0</td>\n",
       "      <td>0.0</td>\n",
       "      <td>0.0</td>\n",
       "      <td>0.0</td>\n",
       "      <td>0.0</td>\n",
       "      <td>0.0</td>\n",
       "      <td>Notebook</td>\n",
       "    </tr>\n",
       "  </tbody>\n",
       "</table>\n",
       "<p>5 rows × 301 columns</p>\n",
       "</div>"
      ],
      "text/plain": [
       "     0     1     2     3     4     5     6     7     8    9    ...     291  \\\n",
       "0  0.0  1.66  1.84  2.09  1.66  1.24  0.71  0.00  0.60  0.0    ...     0.0   \n",
       "1  0.0  1.31  1.13  1.59  1.74  1.56  1.35  1.03  0.64  0.0    ...     0.0   \n",
       "2  0.0  0.96  1.74  1.70  2.02  1.66  1.06  0.53  0.00  0.0    ...     0.0   \n",
       "3  0.0  1.24  2.27  2.02  1.95  1.56  1.13  0.67  0.00  0.0    ...     0.0   \n",
       "4  0.0  1.70  1.77  1.98  1.81  1.13  0.78  0.71  0.00  0.0    ...     0.0   \n",
       "\n",
       "   292  293  294  295  296  297  298  299    Device  \n",
       "0  0.0  0.0  0.0  0.0  0.0  0.0  0.0  0.0  Notebook  \n",
       "1  0.0  0.0  0.0  0.0  0.0  0.0  0.0  0.0  Notebook  \n",
       "2  0.0  0.0  0.0  0.0  0.0  0.0  0.0  0.0  Notebook  \n",
       "3  0.0  0.0  0.0  0.0  0.0  0.0  0.0  0.0  Notebook  \n",
       "4  0.0  0.0  0.0  0.0  0.0  0.0  0.0  0.0  Notebook  \n",
       "\n",
       "[5 rows x 301 columns]"
      ]
     },
     "execution_count": 2,
     "metadata": {},
     "output_type": "execute_result"
    }
   ],
   "source": [
    "dataset = pd.read_csv('../CreatingDataset/TimeDomain/ElectricCurrentDataset.txt')\n",
    "dataset.head()"
   ]
  },
  {
   "cell_type": "markdown",
   "metadata": {},
   "source": [
    "# PARTE 1\n",
    "Correntes Isoladas"
   ]
  },
  {
   "cell_type": "markdown",
   "metadata": {},
   "source": [
    "### Classes do Dataset"
   ]
  },
  {
   "cell_type": "code",
   "execution_count": 3,
   "metadata": {},
   "outputs": [
    {
     "name": "stdout",
     "output_type": "stream",
     "text": [
      "Exemplos\t Classes\n",
      "\n",
      "200 \t\t Notebook\n",
      "200 \t\t Ventilador\n",
      "200 \t\t Liquidificador\n",
      "200 \t\t Geladeira\n",
      "\n",
      "Número de Classes: 4\n"
     ]
    }
   ],
   "source": [
    "device_position = 'Device'\n",
    "classes=[]\n",
    "for i in dataset[device_position]:\n",
    "    if i not in classes:\n",
    "        classes.append(i)\n",
    "print('Exemplos\\t Classes\\n')\n",
    "for classe in classes:\n",
    "    num_exemplos = dataset[dataset[device_position]==classe].count()[0]\n",
    "    print(num_exemplos, '\\t\\t',classe)\n",
    "\n",
    "print()\n",
    "print('Número de Classes:', len(classes))"
   ]
  },
  {
   "cell_type": "markdown",
   "metadata": {},
   "source": [
    "### Holdout 80/20"
   ]
  },
  {
   "cell_type": "code",
   "execution_count": 4,
   "metadata": {},
   "outputs": [],
   "source": [
    "y = dataset[device_position]\n",
    "x = dataset.drop([device_position], axis=1)\n",
    "X_train, X_test, Y_train, Y_test = train_test_split(x, y, test_size=0.20)"
   ]
  },
  {
   "cell_type": "markdown",
   "metadata": {},
   "source": [
    "## Treinamentos e Testes"
   ]
  },
  {
   "cell_type": "code",
   "execution_count": 5,
   "metadata": {},
   "outputs": [
    {
     "name": "stdout",
     "output_type": "stream",
     "text": [
      "Modelo:\tAcurácias:\n",
      "KNN:\t 1.0\n",
      "CN: \t 0.99375\n",
      "GNB:\t 0.98125\n",
      "MLP:\t 1.0\n"
     ]
    }
   ],
   "source": [
    "knn = KNeighborsClassifier(n_neighbors=5)\n",
    "knn.fit(X_train, Y_train)\n",
    "previsaokNN = knn.predict(X_test)\n",
    "\n",
    "KNN1 = accuracy_score(Y_test, previsaokNN)\n",
    "print('Modelo:\\tAcurácias:')\n",
    "print('KNN:\\t', KNN1)\n",
    "      \n",
    "nc = NearestCentroid()\n",
    "nc.fit(X_train, Y_train)\n",
    "previsaoNC = nc.predict(X_test)\n",
    "\n",
    "CN1 = accuracy_score(Y_test, previsaoNC)\n",
    "print('CN: \\t', CN1)\n",
    "      \n",
    "gnb = GaussianNB()\n",
    "gnb.fit(X_train, Y_train)\n",
    "previsaoGNB = gnb.predict(X_test)\n",
    "\n",
    "GNB1 = accuracy_score(Y_test, previsaoGNB)\n",
    "print('GNB:\\t', GNB1)\n",
    "      \n",
    "MLP = MLPClassifier(hidden_layer_sizes=(12,11,11),\n",
    "                     max_iter=1000, \n",
    "                     activation='identity', \n",
    "                     learning_rate='constant',\n",
    "                     learning_rate_init=0.00001,\n",
    "                     batch_size = 128,\n",
    "                     solver = 'lbfgs')\n",
    "MLP.fit(X_train, Y_train)\n",
    "previsaoMLP = MLP.predict(X_test)\n",
    "\n",
    "MLP1 = accuracy_score(Y_test, previsaoMLP)\n",
    "print('MLP:\\t', MLP1)"
   ]
  },
  {
   "cell_type": "markdown",
   "metadata": {},
   "source": [
    "# PARTE 2\n",
    "Acrescentando-se ao dataset Correntes Combinadas dois a dois"
   ]
  },
  {
   "cell_type": "markdown",
   "metadata": {},
   "source": [
    "## Combinações de Correntes"
   ]
  },
  {
   "cell_type": "code",
   "execution_count": 6,
   "metadata": {},
   "outputs": [],
   "source": [
    "classes=[]\n",
    "for i in dataset['Device']:\n",
    "    if i not in classes:\n",
    "        classes.append(i)"
   ]
  },
  {
   "cell_type": "code",
   "execution_count": 7,
   "metadata": {},
   "outputs": [
    {
     "name": "stderr",
     "output_type": "stream",
     "text": [
      "/Users/jeanlima/anaconda3/lib/python3.6/site-packages/ipykernel_launcher.py:2: FutureWarning: Method .as_matrix will be removed in a future version. Use .values instead.\n",
      "  \n"
     ]
    }
   ],
   "source": [
    "#Transformando o Dataframe dataset em matriz\n",
    "matrix_dataset = list(dataset.as_matrix())"
   ]
  },
  {
   "cell_type": "code",
   "execution_count": 8,
   "metadata": {},
   "outputs": [],
   "source": [
    "#transformando cada linha da matriz em um numpy array\n",
    "for i in range(len(matrix_dataset)):\n",
    "    matrix_dataset[i] = np.asarray(matrix_dataset[i])"
   ]
  },
  {
   "cell_type": "code",
   "execution_count": 9,
   "metadata": {},
   "outputs": [],
   "source": [
    "for i in range(len(dataset)):\n",
    "    for j in range(1, len(classes)):\n",
    "        if i+(200*j)<len(dataset):\n",
    "            matrix_dataset.append(matrix_dataset[i]+matrix_dataset[i+(200*j)])"
   ]
  },
  {
   "cell_type": "code",
   "execution_count": 10,
   "metadata": {},
   "outputs": [],
   "source": [
    "new_dataset = pd.DataFrame(matrix_dataset)"
   ]
  },
  {
   "cell_type": "markdown",
   "metadata": {},
   "source": [
    "### Classes do Dataset"
   ]
  },
  {
   "cell_type": "code",
   "execution_count": 11,
   "metadata": {},
   "outputs": [
    {
     "name": "stdout",
     "output_type": "stream",
     "text": [
      "Exemplos\t Classes\n",
      "\n",
      "200 \t\t Notebook\n",
      "200 \t\t Ventilador\n",
      "200 \t\t Liquidificador\n",
      "200 \t\t Geladeira\n",
      "200 \t\t NotebookVentilador\n",
      "200 \t\t NotebookLiquidificador\n",
      "200 \t\t NotebookGeladeira\n",
      "200 \t\t VentiladorLiquidificador\n",
      "200 \t\t VentiladorGeladeira\n",
      "200 \t\t LiquidificadorGeladeira\n",
      "\n",
      "Número de Classes: 10\n"
     ]
    }
   ],
   "source": [
    "device_position = 300\n",
    "classes=[]\n",
    "for i in new_dataset[device_position]:\n",
    "    if i not in classes:\n",
    "        classes.append(i)\n",
    "print('Exemplos\\t Classes\\n')\n",
    "for classe in classes:\n",
    "    num_exemplos = new_dataset[new_dataset[device_position]==classe].count()[0]\n",
    "    print(num_exemplos, '\\t\\t',classe)\n",
    "\n",
    "print()\n",
    "print('Número de Classes:', len(classes))"
   ]
  },
  {
   "cell_type": "markdown",
   "metadata": {},
   "source": [
    "### Holdout 80/20"
   ]
  },
  {
   "cell_type": "code",
   "execution_count": 12,
   "metadata": {},
   "outputs": [],
   "source": [
    "y = new_dataset[device_position]\n",
    "x = new_dataset.drop([device_position], axis=1)\n",
    "X_train, X_test, Y_train, Y_test = train_test_split(x, y, test_size=0.20)"
   ]
  },
  {
   "cell_type": "markdown",
   "metadata": {},
   "source": [
    "## Treinamentos e Testes"
   ]
  },
  {
   "cell_type": "code",
   "execution_count": 13,
   "metadata": {},
   "outputs": [
    {
     "name": "stdout",
     "output_type": "stream",
     "text": [
      "Modelo:\tAcurácias:\n",
      "KNN:\t 0.665\n",
      "CN: \t 0.69\n",
      "GNB:\t 0.8475\n",
      "MLP:\t 0.9725\n"
     ]
    }
   ],
   "source": [
    "knn = KNeighborsClassifier(n_neighbors=5)\n",
    "knn.fit(X_train, Y_train)\n",
    "previsaokNN = knn.predict(X_test)\n",
    "\n",
    "KNN2 = accuracy_score(Y_test, previsaokNN)\n",
    "print('Modelo:\\tAcurácias:')\n",
    "print('KNN:\\t', KNN2)\n",
    "      \n",
    "nc = NearestCentroid()\n",
    "nc.fit(X_train, Y_train)\n",
    "previsaoNC = nc.predict(X_test)\n",
    "\n",
    "CN2 = accuracy_score(Y_test, previsaoNC)\n",
    "print('CN: \\t', CN2)\n",
    "      \n",
    "gnb = GaussianNB()\n",
    "gnb.fit(X_train, Y_train)\n",
    "previsaoGNB = gnb.predict(X_test)\n",
    "\n",
    "GNB2 = accuracy_score(Y_test, previsaoGNB)\n",
    "print('GNB:\\t', GNB2)\n",
    "      \n",
    "MLP = MLPClassifier(hidden_layer_sizes=(12,11,11),\n",
    "                     max_iter=1000, \n",
    "                     activation='identity', \n",
    "                     learning_rate='constant',\n",
    "                     learning_rate_init=0.00001,\n",
    "                     batch_size = 128,\n",
    "                     solver = 'lbfgs')\n",
    "MLP.fit(X_train, Y_train)\n",
    "previsaoMLP = MLP.predict(X_test)\n",
    "\n",
    "MLP2 = accuracy_score(Y_test, previsaoMLP)\n",
    "print('MLP:\\t', MLP2)"
   ]
  },
  {
   "cell_type": "markdown",
   "metadata": {},
   "source": [
    "# PARTE 3\n",
    "Acrescentando-se ao dataset Correntes Combinadas três a três"
   ]
  },
  {
   "cell_type": "markdown",
   "metadata": {},
   "source": [
    "### Três a três"
   ]
  },
  {
   "cell_type": "code",
   "execution_count": 14,
   "metadata": {},
   "outputs": [],
   "source": [
    "for i in range(len(dataset)):\n",
    "    for j in range(1, len(classes)):\n",
    "        for k in range(1, len(classes)):\n",
    "            if i+(200*j) < len(dataset) and i+(200*(j+k)) < len(dataset):\n",
    "                matrix_dataset.append(matrix_dataset[i] + matrix_dataset[i+(200*j)] + matrix_dataset[i+(200*(j+k))])"
   ]
  },
  {
   "cell_type": "code",
   "execution_count": 15,
   "metadata": {},
   "outputs": [],
   "source": [
    "new_dataset = pd.DataFrame(matrix_dataset)"
   ]
  },
  {
   "cell_type": "markdown",
   "metadata": {},
   "source": [
    "### Classes do Dataset"
   ]
  },
  {
   "cell_type": "code",
   "execution_count": 16,
   "metadata": {},
   "outputs": [
    {
     "name": "stdout",
     "output_type": "stream",
     "text": [
      "Exemplos\t Classes\n",
      "\n",
      "200 \t\t Notebook\n",
      "200 \t\t Ventilador\n",
      "200 \t\t Liquidificador\n",
      "200 \t\t Geladeira\n",
      "200 \t\t NotebookVentilador\n",
      "200 \t\t NotebookLiquidificador\n",
      "200 \t\t NotebookGeladeira\n",
      "200 \t\t VentiladorLiquidificador\n",
      "200 \t\t VentiladorGeladeira\n",
      "200 \t\t LiquidificadorGeladeira\n",
      "200 \t\t NotebookVentiladorLiquidificador\n",
      "200 \t\t NotebookVentiladorGeladeira\n",
      "200 \t\t NotebookLiquidificadorGeladeira\n",
      "200 \t\t VentiladorLiquidificadorGeladeira\n",
      "\n",
      "Número de Classes: 14\n"
     ]
    }
   ],
   "source": [
    "device_position = 300\n",
    "classes=[]\n",
    "for i in new_dataset[device_position]:\n",
    "    if i not in classes:\n",
    "        classes.append(i)\n",
    "print('Exemplos\\t Classes\\n')\n",
    "for classe in classes:\n",
    "    num_exemplos = new_dataset[new_dataset[device_position]==classe].count()[0]\n",
    "    print(num_exemplos, '\\t\\t',classe)\n",
    "\n",
    "print()\n",
    "print('Número de Classes:', len(classes))"
   ]
  },
  {
   "cell_type": "markdown",
   "metadata": {},
   "source": [
    "### Holdout 80/20"
   ]
  },
  {
   "cell_type": "code",
   "execution_count": 17,
   "metadata": {},
   "outputs": [],
   "source": [
    "y = new_dataset[device_position]\n",
    "x = new_dataset.drop([device_position], axis=1)\n",
    "X_train, X_test, Y_train, Y_test = train_test_split(x, y, test_size=0.20)"
   ]
  },
  {
   "cell_type": "markdown",
   "metadata": {},
   "source": [
    "## Treinamentos e Testes"
   ]
  },
  {
   "cell_type": "code",
   "execution_count": 18,
   "metadata": {},
   "outputs": [
    {
     "name": "stdout",
     "output_type": "stream",
     "text": [
      "Modelo:\tAcurácias:\n",
      "KNN:\t 0.5267857142857143\n",
      "CN: \t 0.5946428571428571\n",
      "GNB:\t 0.7839285714285714\n",
      "MLP:\t 0.9\n"
     ]
    }
   ],
   "source": [
    "knn = KNeighborsClassifier(n_neighbors=5)\n",
    "knn.fit(X_train, Y_train)\n",
    "previsaokNN = knn.predict(X_test)\n",
    "\n",
    "KNN3 = accuracy_score(Y_test, previsaokNN)\n",
    "print('Modelo:\\tAcurácias:')\n",
    "print('KNN:\\t', KNN3)\n",
    "      \n",
    "nc = NearestCentroid()\n",
    "nc.fit(X_train, Y_train)\n",
    "previsaoNC = nc.predict(X_test)\n",
    "\n",
    "CN3 = accuracy_score(Y_test, previsaoNC)\n",
    "print('CN: \\t', CN3)\n",
    "      \n",
    "gnb = GaussianNB()\n",
    "gnb.fit(X_train, Y_train)\n",
    "previsaoGNB = gnb.predict(X_test)\n",
    "\n",
    "GNB3 = accuracy_score(Y_test, previsaoGNB)\n",
    "print('GNB:\\t', GNB3)\n",
    "      \n",
    "MLP = MLPClassifier(hidden_layer_sizes=(12,11,11),\n",
    "                     max_iter=1000, \n",
    "                     activation='identity', \n",
    "                     learning_rate='constant',\n",
    "                     learning_rate_init=0.00001,\n",
    "                     batch_size = 128,\n",
    "                     solver = 'lbfgs')\n",
    "MLP.fit(X_train, Y_train)\n",
    "previsaoMLP = MLP.predict(X_test)\n",
    "\n",
    "MLP3 = accuracy_score(Y_test, previsaoMLP)\n",
    "print('MLP:\\t', MLP3)"
   ]
  },
  {
   "cell_type": "markdown",
   "metadata": {},
   "source": [
    "# PARTE 4\n",
    "Acrescentando-se ao dataset Correntes Combinadas quatro a quatro"
   ]
  },
  {
   "cell_type": "markdown",
   "metadata": {},
   "source": [
    "### Quatro a quatro"
   ]
  },
  {
   "cell_type": "code",
   "execution_count": 19,
   "metadata": {},
   "outputs": [],
   "source": [
    "for i in range(200):\n",
    "    matrix_dataset.append(matrix_dataset[i] + matrix_dataset[i+(200*1)] + matrix_dataset[i+(200*(2))] + matrix_dataset[i+(200*(3))])"
   ]
  },
  {
   "cell_type": "code",
   "execution_count": 20,
   "metadata": {},
   "outputs": [],
   "source": [
    "new_dataset = pd.DataFrame(matrix_dataset)"
   ]
  },
  {
   "cell_type": "markdown",
   "metadata": {},
   "source": [
    "### Classes do Dataset"
   ]
  },
  {
   "cell_type": "code",
   "execution_count": 21,
   "metadata": {},
   "outputs": [
    {
     "name": "stdout",
     "output_type": "stream",
     "text": [
      "Exemplos\t Classes\n",
      "\n",
      "200 \t\t Notebook\n",
      "200 \t\t Ventilador\n",
      "200 \t\t Liquidificador\n",
      "200 \t\t Geladeira\n",
      "200 \t\t NotebookVentilador\n",
      "200 \t\t NotebookLiquidificador\n",
      "200 \t\t NotebookGeladeira\n",
      "200 \t\t VentiladorLiquidificador\n",
      "200 \t\t VentiladorGeladeira\n",
      "200 \t\t LiquidificadorGeladeira\n",
      "200 \t\t NotebookVentiladorLiquidificador\n",
      "200 \t\t NotebookVentiladorGeladeira\n",
      "200 \t\t NotebookLiquidificadorGeladeira\n",
      "200 \t\t VentiladorLiquidificadorGeladeira\n",
      "200 \t\t NotebookVentiladorLiquidificadorGeladeira\n",
      "\n",
      "Número de Classes: 15\n"
     ]
    }
   ],
   "source": [
    "device_position = 300\n",
    "classes=[]\n",
    "for i in new_dataset[device_position]:\n",
    "    if i not in classes:\n",
    "        classes.append(i)\n",
    "print('Exemplos\\t Classes\\n')\n",
    "for classe in classes:\n",
    "    num_exemplos = new_dataset[new_dataset[device_position]==classe].count()[0]\n",
    "    print(num_exemplos, '\\t\\t',classe)\n",
    "\n",
    "print()\n",
    "print('Número de Classes:', len(classes))"
   ]
  },
  {
   "cell_type": "markdown",
   "metadata": {},
   "source": [
    "## Holdout 80/20"
   ]
  },
  {
   "cell_type": "code",
   "execution_count": 22,
   "metadata": {},
   "outputs": [],
   "source": [
    "y = new_dataset[device_position]\n",
    "x = new_dataset.drop([device_position], axis=1)\n",
    "X_train, X_test, Y_train, Y_test = train_test_split(x, y, test_size=0.20)"
   ]
  },
  {
   "cell_type": "markdown",
   "metadata": {},
   "source": [
    "## Treinamentos e Testes"
   ]
  },
  {
   "cell_type": "code",
   "execution_count": 23,
   "metadata": {
    "scrolled": true
   },
   "outputs": [
    {
     "name": "stdout",
     "output_type": "stream",
     "text": [
      "Modelo:\tAcurácias:\n",
      "KNN:\t 0.43\n",
      "CN: \t 0.5216666666666666\n",
      "GNB:\t 0.7316666666666667\n",
      "MLP:\t 0.9316666666666666\n"
     ]
    }
   ],
   "source": [
    "knn = KNeighborsClassifier(n_neighbors=5)\n",
    "knn.fit(X_train, Y_train)\n",
    "previsaokNN = knn.predict(X_test)\n",
    "\n",
    "KNN4 = accuracy_score(Y_test, previsaokNN)\n",
    "print('Modelo:\\tAcurácias:')\n",
    "print('KNN:\\t', KNN4)\n",
    "      \n",
    "nc = NearestCentroid()\n",
    "nc.fit(X_train, Y_train)\n",
    "previsaoNC = nc.predict(X_test)\n",
    "\n",
    "CN4 = accuracy_score(Y_test, previsaoNC)\n",
    "print('CN: \\t', CN4)\n",
    "      \n",
    "gnb = GaussianNB()\n",
    "gnb.fit(X_train, Y_train)\n",
    "previsaoGNB = gnb.predict(X_test)\n",
    "\n",
    "GNB4 = accuracy_score(Y_test, previsaoGNB)\n",
    "print('GNB:\\t', GNB4)\n",
    "      \n",
    "MLP = MLPClassifier(hidden_layer_sizes=(12,11,11),\n",
    "                     max_iter=1000, \n",
    "                     activation='identity', \n",
    "                     learning_rate='constant',\n",
    "                     learning_rate_init=0.00001,\n",
    "                     batch_size = 128,\n",
    "                     solver = 'lbfgs')\n",
    "MLP.fit(X_train, Y_train)\n",
    "previsaoMLP = MLP.predict(X_test)\n",
    "\n",
    "MLP4 = accuracy_score(Y_test, previsaoMLP)\n",
    "print('MLP:\\t', MLP4)"
   ]
  },
  {
   "cell_type": "code",
   "execution_count": 30,
   "metadata": {},
   "outputs": [
    {
     "data": {
      "image/png": "[encoded data removed]",
      "text/plain": [
       "<Figure size 432x288 with 1 Axes>"
      ]
     },
     "metadata": {},
     "output_type": "display_data"
    }
   ],
   "source": [
    "y = [KNN1, KNN2, KNN3, KNN4]\n",
    "x = ['1', '2', '3', '4']\n",
    "plt.plot(x, y, marker = 'o', label='KNN')\n",
    "\n",
    "\n",
    "y = [CN1, CN2, CN3, CN4]\n",
    "plt.plot(x, y, marker='o', label='CN')\n",
    "\n",
    "y = [GNB1, GNB2, GNB3, GNB4]\n",
    "plt.plot(x, y, marker='o', label='GNB')\n",
    "\n",
    "y = [MLP1, MLP2, MLP3, MLP4]\n",
    "plt.plot(x, y, marker='o', label='MLP')\n",
    "\n",
    "\n",
    "plt.legend()\n",
    "plt.title('Resultados - Séries Numéricas - Domínio do Tempo\\n')\n",
    "plt.ylabel(\"Acurácia\\n\")\n",
    "plt.xlabel(\"Qtd de Correntes Combinadas\")\n",
    "plt.axis([-0.1, 3.1, 0.4, 1.02])\n",
    "plt.savefig('Resultados - Séries Numéricas - Domínio do Tempo')"
   ]
  }
 ],
 "metadata": {
  "kernelspec": {
   "display_name": "Python 3",
   "language": "python",
   "name": "python3"
  },
  "language_info": {
   "codemirror_mode": {
    "name": "ipython",
    "version": 3
   },
   "file_extension": ".py",
   "mimetype": "text/x-python",
   "name": "python",
   "nbconvert_exporter": "python",
   "pygments_lexer": "ipython3",
   "version": "3.6.5"
  }
 },
 "nbformat": 4,
 "nbformat_minor": 2
}
