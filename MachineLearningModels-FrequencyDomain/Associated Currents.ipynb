{
 "cells": [
  {
   "cell_type": "code",
   "execution_count": 1,
   "metadata": {},
   "outputs": [],
   "source": [
    "import pandas as pd\n",
    "import numpy as np\n",
    "import matplotlib.pyplot as plt\n",
    "from sklearn.model_selection import train_test_split\n",
    "from sklearn.neighbors import KNeighborsClassifier\n",
    "from sklearn.neighbors import NearestCentroid\n",
    "from sklearn.neural_network import MLPClassifier\n",
    "from sklearn.naive_bayes import GaussianNB\n",
    "from sklearn.metrics import confusion_matrix, accuracy_score"
   ]
  },
  {
   "cell_type": "code",
   "execution_count": 2,
   "metadata": {},
   "outputs": [],
   "source": [
    "dataset = pd.read_csv('../CreatingDataset/TimeDomain/ElectricCurrentDataset.txt')"
   ]
  },
  {
   "cell_type": "markdown",
   "metadata": {},
   "source": [
    "## Combinações de Correntes"
   ]
  },
  {
   "cell_type": "code",
   "execution_count": 3,
   "metadata": {},
   "outputs": [
    {
     "name": "stderr",
     "output_type": "stream",
     "text": [
      "/Users/jeanlima/anaconda3/lib/python3.6/site-packages/ipykernel_launcher.py:7: FutureWarning: Method .as_matrix will be removed in a future version. Use .values instead.\n",
      "  import sys\n"
     ]
    }
   ],
   "source": [
    "classes=[]\n",
    "for i in dataset['Device']:\n",
    "    if i not in classes:\n",
    "        classes.append(i)\n",
    "\n",
    "#Transformando o Dataframe dataset em matriz\n",
    "matrix_dataset = list(dataset.as_matrix())\n",
    "\n",
    "#Transformando cada linha da matriz em um numpy array\n",
    "for i in range(len(matrix_dataset)):\n",
    "    matrix_dataset[i] = np.asarray(matrix_dataset[i])\n",
    "\n",
    "#Dois a dois\n",
    "for i in range(len(dataset)):\n",
    "    for j in range(1, len(classes)):\n",
    "        if i+(200*j)<len(dataset):\n",
    "            matrix_dataset.append(matrix_dataset[i]+matrix_dataset[i+(200*j)])\n",
    "\n",
    "#Três a três\n",
    "num_classes = 4\n",
    "for i in range(len(dataset)):\n",
    "    for j in range(1, len(classes)):\n",
    "        for k in range(1, num_classes):\n",
    "            if i+(200*j)<len(dataset) and i+(200*(j+num_classes))<len(dataset):\n",
    "                matrix_dataset.append(matrix_dataset[i] + matrix_dataset[i+(200*j)] + matrix_dataset[i+(200*(j+1))])\n",
    "\n",
    "#Quatro a quatro\n",
    "for i in range(200):\n",
    "    matrix_dataset.append(matrix_dataset[i] + matrix_dataset[i+(200*1)] + matrix_dataset[i+(200*(2))] + matrix_dataset[i+(200*(3))])"
   ]
  },
  {
   "cell_type": "markdown",
   "metadata": {},
   "source": [
    "### CurrentDataset - FrequencyDomain"
   ]
  },
  {
   "cell_type": "code",
   "execution_count": 8,
   "metadata": {
    "scrolled": true
   },
   "outputs": [
    {
     "data": {
      "text/html": [
       "<div>\n",
       "<style scoped>\n",
       "    .dataframe tbody tr th:only-of-type {\n",
       "        vertical-align: middle;\n",
       "    }\n",
       "\n",
       "    .dataframe tbody tr th {\n",
       "        vertical-align: top;\n",
       "    }\n",
       "\n",
       "    .dataframe thead th {\n",
       "        text-align: right;\n",
       "    }\n",
       "</style>\n",
       "<table border=\"1\" class=\"dataframe\">\n",
       "  <thead>\n",
       "    <tr style=\"text-align: right;\">\n",
       "      <th></th>\n",
       "      <th>0</th>\n",
       "      <th>1</th>\n",
       "      <th>2</th>\n",
       "      <th>3</th>\n",
       "      <th>4</th>\n",
       "      <th>5</th>\n",
       "      <th>6</th>\n",
       "      <th>7</th>\n",
       "      <th>8</th>\n",
       "      <th>9</th>\n",
       "      <th>...</th>\n",
       "      <th>291</th>\n",
       "      <th>292</th>\n",
       "      <th>293</th>\n",
       "      <th>294</th>\n",
       "      <th>295</th>\n",
       "      <th>296</th>\n",
       "      <th>297</th>\n",
       "      <th>298</th>\n",
       "      <th>299</th>\n",
       "      <th>300</th>\n",
       "    </tr>\n",
       "  </thead>\n",
       "  <tbody>\n",
       "    <tr>\n",
       "      <th>0</th>\n",
       "      <td>-3.93</td>\n",
       "      <td>-2.513044</td>\n",
       "      <td>-8.163932</td>\n",
       "      <td>33.629912</td>\n",
       "      <td>7.659697</td>\n",
       "      <td>6.725006</td>\n",
       "      <td>10.643506</td>\n",
       "      <td>13.177546</td>\n",
       "      <td>59.482317</td>\n",
       "      <td>-10.749250</td>\n",
       "      <td>...</td>\n",
       "      <td>-10.749250</td>\n",
       "      <td>59.482317</td>\n",
       "      <td>13.177546</td>\n",
       "      <td>10.643506</td>\n",
       "      <td>6.725006</td>\n",
       "      <td>7.659697</td>\n",
       "      <td>33.629912</td>\n",
       "      <td>-8.163932</td>\n",
       "      <td>-2.513044</td>\n",
       "      <td>Notebook</td>\n",
       "    </tr>\n",
       "    <tr>\n",
       "      <th>1</th>\n",
       "      <td>-1.00</td>\n",
       "      <td>-0.191735</td>\n",
       "      <td>-4.678745</td>\n",
       "      <td>23.926314</td>\n",
       "      <td>8.975643</td>\n",
       "      <td>6.839434</td>\n",
       "      <td>8.616491</td>\n",
       "      <td>10.477577</td>\n",
       "      <td>54.968947</td>\n",
       "      <td>-3.580283</td>\n",
       "      <td>...</td>\n",
       "      <td>-3.580283</td>\n",
       "      <td>54.968947</td>\n",
       "      <td>10.477577</td>\n",
       "      <td>8.616491</td>\n",
       "      <td>6.839434</td>\n",
       "      <td>8.975643</td>\n",
       "      <td>23.926314</td>\n",
       "      <td>-4.678745</td>\n",
       "      <td>-0.191735</td>\n",
       "      <td>Notebook</td>\n",
       "    </tr>\n",
       "    <tr>\n",
       "      <th>2</th>\n",
       "      <td>-3.07</td>\n",
       "      <td>-3.250578</td>\n",
       "      <td>-3.296642</td>\n",
       "      <td>28.901722</td>\n",
       "      <td>7.726107</td>\n",
       "      <td>9.185737</td>\n",
       "      <td>9.997531</td>\n",
       "      <td>13.401718</td>\n",
       "      <td>53.479286</td>\n",
       "      <td>-8.655162</td>\n",
       "      <td>...</td>\n",
       "      <td>-8.655162</td>\n",
       "      <td>53.479286</td>\n",
       "      <td>13.401718</td>\n",
       "      <td>9.997531</td>\n",
       "      <td>9.185737</td>\n",
       "      <td>7.726107</td>\n",
       "      <td>28.901722</td>\n",
       "      <td>-3.296642</td>\n",
       "      <td>-3.250578</td>\n",
       "      <td>Notebook</td>\n",
       "    </tr>\n",
       "    <tr>\n",
       "      <th>3</th>\n",
       "      <td>-1.94</td>\n",
       "      <td>-0.968233</td>\n",
       "      <td>-4.019366</td>\n",
       "      <td>27.971932</td>\n",
       "      <td>10.626979</td>\n",
       "      <td>7.588198</td>\n",
       "      <td>9.675171</td>\n",
       "      <td>14.644327</td>\n",
       "      <td>55.259634</td>\n",
       "      <td>-3.368294</td>\n",
       "      <td>...</td>\n",
       "      <td>-3.368294</td>\n",
       "      <td>55.259634</td>\n",
       "      <td>14.644327</td>\n",
       "      <td>9.675171</td>\n",
       "      <td>7.588198</td>\n",
       "      <td>10.626979</td>\n",
       "      <td>27.971932</td>\n",
       "      <td>-4.019366</td>\n",
       "      <td>-0.968233</td>\n",
       "      <td>Notebook</td>\n",
       "    </tr>\n",
       "    <tr>\n",
       "      <th>4</th>\n",
       "      <td>-4.44</td>\n",
       "      <td>-1.646007</td>\n",
       "      <td>-4.716094</td>\n",
       "      <td>32.419320</td>\n",
       "      <td>8.428120</td>\n",
       "      <td>8.383729</td>\n",
       "      <td>11.016293</td>\n",
       "      <td>12.865954</td>\n",
       "      <td>56.504946</td>\n",
       "      <td>-12.448456</td>\n",
       "      <td>...</td>\n",
       "      <td>-12.448456</td>\n",
       "      <td>56.504946</td>\n",
       "      <td>12.865954</td>\n",
       "      <td>11.016293</td>\n",
       "      <td>8.383729</td>\n",
       "      <td>8.428120</td>\n",
       "      <td>32.419320</td>\n",
       "      <td>-4.716094</td>\n",
       "      <td>-1.646007</td>\n",
       "      <td>Notebook</td>\n",
       "    </tr>\n",
       "  </tbody>\n",
       "</table>\n",
       "<p>5 rows × 301 columns</p>\n",
       "</div>"
      ],
      "text/plain": [
       "    0         1         2          3          4         5          6    \\\n",
       "0 -3.93 -2.513044 -8.163932  33.629912   7.659697  6.725006  10.643506   \n",
       "1 -1.00 -0.191735 -4.678745  23.926314   8.975643  6.839434   8.616491   \n",
       "2 -3.07 -3.250578 -3.296642  28.901722   7.726107  9.185737   9.997531   \n",
       "3 -1.94 -0.968233 -4.019366  27.971932  10.626979  7.588198   9.675171   \n",
       "4 -4.44 -1.646007 -4.716094  32.419320   8.428120  8.383729  11.016293   \n",
       "\n",
       "         7          8          9      ...           291        292        293  \\\n",
       "0  13.177546  59.482317 -10.749250    ...    -10.749250  59.482317  13.177546   \n",
       "1  10.477577  54.968947  -3.580283    ...     -3.580283  54.968947  10.477577   \n",
       "2  13.401718  53.479286  -8.655162    ...     -8.655162  53.479286  13.401718   \n",
       "3  14.644327  55.259634  -3.368294    ...     -3.368294  55.259634  14.644327   \n",
       "4  12.865954  56.504946 -12.448456    ...    -12.448456  56.504946  12.865954   \n",
       "\n",
       "         294       295        296        297       298       299       300  \n",
       "0  10.643506  6.725006   7.659697  33.629912 -8.163932 -2.513044  Notebook  \n",
       "1   8.616491  6.839434   8.975643  23.926314 -4.678745 -0.191735  Notebook  \n",
       "2   9.997531  9.185737   7.726107  28.901722 -3.296642 -3.250578  Notebook  \n",
       "3   9.675171  7.588198  10.626979  27.971932 -4.019366 -0.968233  Notebook  \n",
       "4  11.016293  8.383729   8.428120  32.419320 -4.716094 -1.646007  Notebook  \n",
       "\n",
       "[5 rows x 301 columns]"
      ]
     },
     "execution_count": 8,
     "metadata": {},
     "output_type": "execute_result"
    }
   ],
   "source": [
    "device_position = 300\n",
    "frequency_dataset = []\n",
    "for i in range(len(matrix_dataset)):\n",
    "    signal = []\n",
    "    signal = list(matrix_dataset[i][:device_position])\n",
    "    frequency_dataset.append(list(np.fft.fft(signal).real))\n",
    "    frequency_dataset[i].append(matrix_dataset[i][device_position])\n",
    "    \n",
    "\n",
    "#Novo dataset\n",
    "frequency_dataset = pd.DataFrame(frequency_dataset)\n",
    "frequency_dataset.head()"
   ]
  },
  {
   "cell_type": "markdown",
   "metadata": {},
   "source": [
    "## Partição Holdout 80/20"
   ]
  },
  {
   "cell_type": "code",
   "execution_count": 9,
   "metadata": {},
   "outputs": [],
   "source": [
    "y = frequency_dataset[device_position]\n",
    "x = frequency_dataset.drop([device_position], axis=1)\n",
    "X_train, X_test, Y_train, Y_test = train_test_split(x, y, test_size=0.20)"
   ]
  },
  {
   "cell_type": "markdown",
   "metadata": {},
   "source": [
    "## Treinamento e Teste Centróides mais próximas"
   ]
  },
  {
   "cell_type": "code",
   "execution_count": 10,
   "metadata": {},
   "outputs": [
    {
     "name": "stdout",
     "output_type": "stream",
     "text": [
      "Acurácia: 0.5159090909090909\n"
     ]
    }
   ],
   "source": [
    "nc = NearestCentroid()\n",
    "nc.fit(X_train, Y_train)\n",
    "previsaoNC = nc.predict(X_test)\n",
    "\n",
    "print('Acurácia:',accuracy_score(Y_test, previsaoNC))"
   ]
  },
  {
   "cell_type": "markdown",
   "metadata": {},
   "source": [
    "## Treinamento e Teste KNN; K=5"
   ]
  },
  {
   "cell_type": "code",
   "execution_count": 11,
   "metadata": {},
   "outputs": [
    {
     "name": "stdout",
     "output_type": "stream",
     "text": [
      "Acurácia: 0.675\n"
     ]
    }
   ],
   "source": [
    "knn = KNeighborsClassifier(n_neighbors=5)\n",
    "knn.fit(X_train, Y_train)\n",
    "\n",
    "previsaokNN = knn.predict(X_test)\n",
    "\n",
    "print('Acurácia:',accuracy_score(Y_test, previsaokNN))"
   ]
  },
  {
   "cell_type": "markdown",
   "metadata": {},
   "source": [
    "## Treino e Teste Gaussian Naive Bayes"
   ]
  },
  {
   "cell_type": "code",
   "execution_count": 16,
   "metadata": {},
   "outputs": [
    {
     "data": {
      "text/plain": [
       "0.8090909090909091"
      ]
     },
     "execution_count": 16,
     "metadata": {},
     "output_type": "execute_result"
    }
   ],
   "source": [
    "gnb = GaussianNB()\n",
    "gnb.fit(X_train, Y_train)\n",
    "\n",
    "previsaoGNB = gnb.predict(X_test)\n",
    "\n",
    "accuracy_score(Y_test, previsaoGNB)"
   ]
  },
  {
   "cell_type": "markdown",
   "metadata": {},
   "source": [
    "## Treinamento e Teste MLP"
   ]
  },
  {
   "cell_type": "code",
   "execution_count": 22,
   "metadata": {},
   "outputs": [
    {
     "data": {
      "text/plain": [
       "18"
      ]
     },
     "execution_count": 22,
     "metadata": {},
     "output_type": "execute_result"
    }
   ],
   "source": [
    "from math import ceil\n",
    "\n",
    "#Regra da pirâmide Geométrica para estabelecer número máximo de neurônios\n",
    "alfa = 0.5\n",
    "input_neurons = 300\n",
    "output_neurons = 4\n",
    "num_neuronios = alfa*((input_neurons* output_neurons)**(1/2))\n",
    "ceil(num_neuronios)"
   ]
  },
  {
   "cell_type": "code",
   "execution_count": 60,
   "metadata": {},
   "outputs": [
    {
     "name": "stdout",
     "output_type": "stream",
     "text": [
      "Acurácia: 0.8727272727272727\n"
     ]
    }
   ],
   "source": [
    "MLP = MLPClassifier(hidden_layer_sizes=(5,6,7),\n",
    "                     max_iter=1000000, \n",
    "                     activation='identity', \n",
    "                     learning_rate='constant',\n",
    "                     learning_rate_init=0.0005,\n",
    "                     batch_size = 1,\n",
    "                     solver='lbfgs')\n",
    "MLP.fit(X_train, Y_train)\n",
    "previsaoMLP = MLP.predict(X_test)\n",
    "\n",
    "print('Acurácia:', accuracy_score(Y_test, previsaoMLP))"
   ]
  }
 ],
 "metadata": {
  "kernelspec": {
   "display_name": "Python 3",
   "language": "python",
   "name": "python3"
  },
  "language_info": {
   "codemirror_mode": {
    "name": "ipython",
    "version": 3
   },
   "file_extension": ".py",
   "mimetype": "text/x-python",
   "name": "python",
   "nbconvert_exporter": "python",
   "pygments_lexer": "ipython3",
   "version": "3.6.5"
  }
 },
 "nbformat": 4,
 "nbformat_minor": 2
}
