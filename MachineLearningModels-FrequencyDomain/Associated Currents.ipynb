{
 "cells": [
  {
   "cell_type": "markdown",
   "metadata": {},
   "source": [
    "# Associated Currents\n",
    "\n",
    "Noteboook to train and test machine learning models to associated currents in the frequency domain.\n",
    "\n",
    "#### Machine Learning Models:\n",
    "    - Nearest Centroid\n",
    "    - K - Nearest Neighbors Classifier\n",
    "    - Gaussian Naive Bayes\n",
    "    - Multilayer Perceptron"
   ]
  },
  {
   "cell_type": "markdown",
   "metadata": {},
   "source": [
    "## Bibliotecas"
   ]
  },
  {
   "cell_type": "code",
   "execution_count": 1,
   "metadata": {},
   "outputs": [],
   "source": [
    "import pandas as pd\n",
    "import numpy as np\n",
    "import matplotlib.pyplot as plt\n",
    "from sklearn.model_selection import train_test_split\n",
    "from sklearn.neighbors import KNeighborsClassifier\n",
    "from sklearn.neighbors import NearestCentroid\n",
    "from sklearn.neural_network import MLPClassifier\n",
    "from sklearn.naive_bayes import GaussianNB\n",
    "from sklearn.metrics import confusion_matrix, accuracy_score"
   ]
  },
  {
   "cell_type": "markdown",
   "metadata": {},
   "source": [
    "## Dataset"
   ]
  },
  {
   "cell_type": "code",
   "execution_count": 30,
   "metadata": {},
   "outputs": [
    {
     "data": {
      "text/html": [
       "<div>\n",
       "<style scoped>\n",
       "    .dataframe tbody tr th:only-of-type {\n",
       "        vertical-align: middle;\n",
       "    }\n",
       "\n",
       "    .dataframe tbody tr th {\n",
       "        vertical-align: top;\n",
       "    }\n",
       "\n",
       "    .dataframe thead th {\n",
       "        text-align: right;\n",
       "    }\n",
       "</style>\n",
       "<table border=\"1\" class=\"dataframe\">\n",
       "  <thead>\n",
       "    <tr style=\"text-align: right;\">\n",
       "      <th></th>\n",
       "      <th>0</th>\n",
       "      <th>1</th>\n",
       "      <th>2</th>\n",
       "      <th>3</th>\n",
       "      <th>4</th>\n",
       "      <th>5</th>\n",
       "      <th>6</th>\n",
       "      <th>7</th>\n",
       "      <th>8</th>\n",
       "      <th>9</th>\n",
       "      <th>...</th>\n",
       "      <th>141</th>\n",
       "      <th>142</th>\n",
       "      <th>143</th>\n",
       "      <th>144</th>\n",
       "      <th>145</th>\n",
       "      <th>146</th>\n",
       "      <th>147</th>\n",
       "      <th>148</th>\n",
       "      <th>149</th>\n",
       "      <th>150</th>\n",
       "    </tr>\n",
       "  </thead>\n",
       "  <tbody>\n",
       "    <tr>\n",
       "      <th>0</th>\n",
       "      <td>-3.93</td>\n",
       "      <td>-2.513044</td>\n",
       "      <td>-8.163932</td>\n",
       "      <td>33.629912</td>\n",
       "      <td>7.659697</td>\n",
       "      <td>6.725006</td>\n",
       "      <td>10.643506</td>\n",
       "      <td>13.177546</td>\n",
       "      <td>59.482317</td>\n",
       "      <td>-10.749250</td>\n",
       "      <td>...</td>\n",
       "      <td>-1.497488</td>\n",
       "      <td>0.593239</td>\n",
       "      <td>-0.932977</td>\n",
       "      <td>-0.940683</td>\n",
       "      <td>0.296320</td>\n",
       "      <td>-1.193640</td>\n",
       "      <td>-0.655611</td>\n",
       "      <td>-0.741995</td>\n",
       "      <td>-0.446247</td>\n",
       "      <td>Notebook</td>\n",
       "    </tr>\n",
       "    <tr>\n",
       "      <th>1</th>\n",
       "      <td>-1.00</td>\n",
       "      <td>-0.191735</td>\n",
       "      <td>-4.678745</td>\n",
       "      <td>23.926314</td>\n",
       "      <td>8.975643</td>\n",
       "      <td>6.839434</td>\n",
       "      <td>8.616491</td>\n",
       "      <td>10.477577</td>\n",
       "      <td>54.968947</td>\n",
       "      <td>-3.580283</td>\n",
       "      <td>...</td>\n",
       "      <td>-2.317958</td>\n",
       "      <td>-1.280038</td>\n",
       "      <td>-2.315763</td>\n",
       "      <td>-1.027259</td>\n",
       "      <td>0.946236</td>\n",
       "      <td>-1.938849</td>\n",
       "      <td>-0.064818</td>\n",
       "      <td>-0.210194</td>\n",
       "      <td>-0.189960</td>\n",
       "      <td>Notebook</td>\n",
       "    </tr>\n",
       "    <tr>\n",
       "      <th>2</th>\n",
       "      <td>-3.07</td>\n",
       "      <td>-3.250578</td>\n",
       "      <td>-3.296642</td>\n",
       "      <td>28.901722</td>\n",
       "      <td>7.726107</td>\n",
       "      <td>9.185737</td>\n",
       "      <td>9.997531</td>\n",
       "      <td>13.401718</td>\n",
       "      <td>53.479286</td>\n",
       "      <td>-8.655162</td>\n",
       "      <td>...</td>\n",
       "      <td>1.225842</td>\n",
       "      <td>-4.145182</td>\n",
       "      <td>0.461510</td>\n",
       "      <td>0.606144</td>\n",
       "      <td>0.210474</td>\n",
       "      <td>0.552271</td>\n",
       "      <td>-1.623733</td>\n",
       "      <td>1.159318</td>\n",
       "      <td>1.475801</td>\n",
       "      <td>Notebook</td>\n",
       "    </tr>\n",
       "    <tr>\n",
       "      <th>3</th>\n",
       "      <td>-1.94</td>\n",
       "      <td>-0.968233</td>\n",
       "      <td>-4.019366</td>\n",
       "      <td>27.971932</td>\n",
       "      <td>10.626979</td>\n",
       "      <td>7.588198</td>\n",
       "      <td>9.675171</td>\n",
       "      <td>14.644327</td>\n",
       "      <td>55.259634</td>\n",
       "      <td>-3.368294</td>\n",
       "      <td>...</td>\n",
       "      <td>0.416586</td>\n",
       "      <td>1.915158</td>\n",
       "      <td>-0.468523</td>\n",
       "      <td>0.125533</td>\n",
       "      <td>0.763407</td>\n",
       "      <td>0.744472</td>\n",
       "      <td>-0.782016</td>\n",
       "      <td>-2.426701</td>\n",
       "      <td>0.004321</td>\n",
       "      <td>Notebook</td>\n",
       "    </tr>\n",
       "    <tr>\n",
       "      <th>4</th>\n",
       "      <td>-4.44</td>\n",
       "      <td>-1.646007</td>\n",
       "      <td>-4.716094</td>\n",
       "      <td>32.419320</td>\n",
       "      <td>8.428120</td>\n",
       "      <td>8.383729</td>\n",
       "      <td>11.016293</td>\n",
       "      <td>12.865954</td>\n",
       "      <td>56.504946</td>\n",
       "      <td>-12.448456</td>\n",
       "      <td>...</td>\n",
       "      <td>-1.055849</td>\n",
       "      <td>1.116572</td>\n",
       "      <td>-1.013087</td>\n",
       "      <td>-0.823712</td>\n",
       "      <td>-0.615774</td>\n",
       "      <td>-0.614480</td>\n",
       "      <td>-0.743137</td>\n",
       "      <td>-2.437276</td>\n",
       "      <td>-1.901127</td>\n",
       "      <td>Notebook</td>\n",
       "    </tr>\n",
       "  </tbody>\n",
       "</table>\n",
       "<p>5 rows × 151 columns</p>\n",
       "</div>"
      ],
      "text/plain": [
       "      0         1         2          3          4         5          6  \\\n",
       "0 -3.93 -2.513044 -8.163932  33.629912   7.659697  6.725006  10.643506   \n",
       "1 -1.00 -0.191735 -4.678745  23.926314   8.975643  6.839434   8.616491   \n",
       "2 -3.07 -3.250578 -3.296642  28.901722   7.726107  9.185737   9.997531   \n",
       "3 -1.94 -0.968233 -4.019366  27.971932  10.626979  7.588198   9.675171   \n",
       "4 -4.44 -1.646007 -4.716094  32.419320   8.428120  8.383729  11.016293   \n",
       "\n",
       "           7          8          9    ...          141       142       143  \\\n",
       "0  13.177546  59.482317 -10.749250    ...    -1.497488  0.593239 -0.932977   \n",
       "1  10.477577  54.968947  -3.580283    ...    -2.317958 -1.280038 -2.315763   \n",
       "2  13.401718  53.479286  -8.655162    ...     1.225842 -4.145182  0.461510   \n",
       "3  14.644327  55.259634  -3.368294    ...     0.416586  1.915158 -0.468523   \n",
       "4  12.865954  56.504946 -12.448456    ...    -1.055849  1.116572 -1.013087   \n",
       "\n",
       "        144       145       146       147       148       149       150  \n",
       "0 -0.940683  0.296320 -1.193640 -0.655611 -0.741995 -0.446247  Notebook  \n",
       "1 -1.027259  0.946236 -1.938849 -0.064818 -0.210194 -0.189960  Notebook  \n",
       "2  0.606144  0.210474  0.552271 -1.623733  1.159318  1.475801  Notebook  \n",
       "3  0.125533  0.763407  0.744472 -0.782016 -2.426701  0.004321  Notebook  \n",
       "4 -0.823712 -0.615774 -0.614480 -0.743137 -2.437276 -1.901127  Notebook  \n",
       "\n",
       "[5 rows x 151 columns]"
      ]
     },
     "execution_count": 30,
     "metadata": {},
     "output_type": "execute_result"
    }
   ],
   "source": [
    "dataset = pd.read_csv('../CreatingDataset/FrequencyDomain/Dataset.csv')\n",
    "dataset.head()"
   ]
  },
  {
   "cell_type": "markdown",
   "metadata": {},
   "source": [
    "## Partição Holdout 80/20"
   ]
  },
  {
   "cell_type": "code",
   "execution_count": 9,
   "metadata": {},
   "outputs": [],
   "source": [
    "device_position = '150'\n",
    "\n",
    "y = dataset[device_position]\n",
    "x = dataset.drop([device_position], axis=1)\n",
    "X_train, X_test, Y_train, Y_test = train_test_split(x, y, test_size=0.20)"
   ]
  },
  {
   "cell_type": "markdown",
   "metadata": {},
   "source": [
    "## Treinamento e Teste Centróides mais próximas"
   ]
  },
  {
   "cell_type": "code",
   "execution_count": 38,
   "metadata": {},
   "outputs": [
    {
     "name": "stdout",
     "output_type": "stream",
     "text": [
      "Acurácia: 0.5840909090909091\n"
     ]
    }
   ],
   "source": [
    "nc = NearestCentroid()\n",
    "nc.fit(X_train, Y_train)\n",
    "previsaoNC = nc.predict(X_test)\n",
    "\n",
    "print('Acurácia:',accuracy_score(Y_test, previsaoNC))"
   ]
  },
  {
   "cell_type": "markdown",
   "metadata": {},
   "source": [
    "## Treinamento e Teste KNN; K=5"
   ]
  },
  {
   "cell_type": "code",
   "execution_count": 39,
   "metadata": {},
   "outputs": [
    {
     "name": "stdout",
     "output_type": "stream",
     "text": [
      "Acurácia: 0.7090909090909091\n"
     ]
    }
   ],
   "source": [
    "knn = KNeighborsClassifier(n_neighbors=5)\n",
    "knn.fit(X_train, Y_train)\n",
    "\n",
    "previsaokNN = knn.predict(X_test)\n",
    "\n",
    "print('Acurácia:',accuracy_score(Y_test, previsaokNN))"
   ]
  },
  {
   "cell_type": "markdown",
   "metadata": {},
   "source": [
    "## Treino e Teste Gaussian Naive Bayes"
   ]
  },
  {
   "cell_type": "code",
   "execution_count": 40,
   "metadata": {},
   "outputs": [
    {
     "data": {
      "text/plain": [
       "0.8136363636363636"
      ]
     },
     "execution_count": 40,
     "metadata": {},
     "output_type": "execute_result"
    }
   ],
   "source": [
    "gnb = GaussianNB()\n",
    "gnb.fit(X_train, Y_train)\n",
    "\n",
    "previsaoGNB = gnb.predict(X_test)\n",
    "\n",
    "accuracy_score(Y_test, previsaoGNB)"
   ]
  },
  {
   "cell_type": "markdown",
   "metadata": {},
   "source": [
    "## Treinamento e Teste MLP"
   ]
  },
  {
   "cell_type": "code",
   "execution_count": 51,
   "metadata": {},
   "outputs": [
    {
     "name": "stdout",
     "output_type": "stream",
     "text": [
      "Acurácia: 0.8568181818181818\n"
     ]
    }
   ],
   "source": [
    "MLP = MLPClassifier(hidden_layer_sizes=(12,11,10),\n",
    "                     max_iter=10000, \n",
    "                     activation='identity', \n",
    "                     learning_rate='constant',\n",
    "                     learning_rate_init=0.0001,\n",
    "                     batch_size = 24,\n",
    "                     solver='lbfgs')\n",
    "MLP.fit(X_train, Y_train)\n",
    "previsaoMLP = MLP.predict(X_test)\n",
    "\n",
    "print('Acurácia:', accuracy_score(Y_test, previsaoMLP))"
   ]
  },
  {
   "cell_type": "code",
   "execution_count": null,
   "metadata": {},
   "outputs": [],
   "source": []
  }
 ],
 "metadata": {
  "kernelspec": {
   "display_name": "Python 3",
   "language": "python",
   "name": "python3"
  },
  "language_info": {
   "codemirror_mode": {
    "name": "ipython",
    "version": 3
   },
   "file_extension": ".py",
   "mimetype": "text/x-python",
   "name": "python",
   "nbconvert_exporter": "python",
   "pygments_lexer": "ipython3",
   "version": "3.6.5"
  }
 },
 "nbformat": 4,
 "nbformat_minor": 2
}
