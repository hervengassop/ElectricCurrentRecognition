{
 "cells": [
  {
   "cell_type": "markdown",
   "metadata": {},
   "source": [
    "# Associated Currents\n",
    "\n",
    "Noteboook to train and test machine learning models to associated currents in the frequency domain.\n",
    "\n",
    "#### Machine Learning Models:\n",
    "    - Nearest Centroid\n",
    "    - K - Nearest Neighbors Classifier\n",
    "    - Gaussian Naive Bayes\n",
    "    - Multilayer Perceptron"
   ]
  },
  {
   "cell_type": "markdown",
   "metadata": {},
   "source": [
    "## Bibliotecas"
   ]
  },
  {
   "cell_type": "code",
   "execution_count": 1,
   "metadata": {},
   "outputs": [],
   "source": [
    "import pandas as pd\n",
    "import numpy as np\n",
    "import matplotlib.pyplot as plt\n",
    "from sklearn.model_selection import train_test_split\n",
    "from sklearn.neighbors import KNeighborsClassifier\n",
    "from sklearn.neighbors import NearestCentroid\n",
    "from sklearn.neural_network import MLPClassifier\n",
    "from sklearn.naive_bayes import GaussianNB\n",
    "from sklearn.metrics import confusion_matrix, accuracy_score"
   ]
  },
  {
   "cell_type": "markdown",
   "metadata": {},
   "source": [
    "## Dataset"
   ]
  },
  {
   "cell_type": "code",
   "execution_count": 58,
   "metadata": {},
   "outputs": [
    {
     "data": {
      "text/html": [
       "<div>\n",
       "<style scoped>\n",
       "    .dataframe tbody tr th:only-of-type {\n",
       "        vertical-align: middle;\n",
       "    }\n",
       "\n",
       "    .dataframe tbody tr th {\n",
       "        vertical-align: top;\n",
       "    }\n",
       "\n",
       "    .dataframe thead th {\n",
       "        text-align: right;\n",
       "    }\n",
       "</style>\n",
       "<table border=\"1\" class=\"dataframe\">\n",
       "  <thead>\n",
       "    <tr style=\"text-align: right;\">\n",
       "      <th></th>\n",
       "      <th>0</th>\n",
       "      <th>1</th>\n",
       "      <th>2</th>\n",
       "      <th>3</th>\n",
       "      <th>4</th>\n",
       "      <th>5</th>\n",
       "      <th>6</th>\n",
       "      <th>7</th>\n",
       "      <th>8</th>\n",
       "      <th>9</th>\n",
       "      <th>...</th>\n",
       "      <th>91</th>\n",
       "      <th>92</th>\n",
       "      <th>93</th>\n",
       "      <th>94</th>\n",
       "      <th>95</th>\n",
       "      <th>96</th>\n",
       "      <th>97</th>\n",
       "      <th>98</th>\n",
       "      <th>99</th>\n",
       "      <th>100</th>\n",
       "    </tr>\n",
       "  </thead>\n",
       "  <tbody>\n",
       "    <tr>\n",
       "      <th>0</th>\n",
       "      <td>3.93</td>\n",
       "      <td>2.513044</td>\n",
       "      <td>8.163932</td>\n",
       "      <td>33.629912</td>\n",
       "      <td>7.659697</td>\n",
       "      <td>6.725006</td>\n",
       "      <td>10.643506</td>\n",
       "      <td>13.177546</td>\n",
       "      <td>59.482317</td>\n",
       "      <td>10.749250</td>\n",
       "      <td>...</td>\n",
       "      <td>1.888285</td>\n",
       "      <td>2.273819</td>\n",
       "      <td>1.312697</td>\n",
       "      <td>1.323685</td>\n",
       "      <td>2.193599</td>\n",
       "      <td>2.599519</td>\n",
       "      <td>2.390184</td>\n",
       "      <td>3.165756</td>\n",
       "      <td>0.534784</td>\n",
       "      <td>Notebook</td>\n",
       "    </tr>\n",
       "    <tr>\n",
       "      <th>1</th>\n",
       "      <td>1.00</td>\n",
       "      <td>0.191735</td>\n",
       "      <td>4.678745</td>\n",
       "      <td>23.926314</td>\n",
       "      <td>8.975643</td>\n",
       "      <td>6.839434</td>\n",
       "      <td>8.616491</td>\n",
       "      <td>10.477577</td>\n",
       "      <td>54.968947</td>\n",
       "      <td>3.580283</td>\n",
       "      <td>...</td>\n",
       "      <td>0.184238</td>\n",
       "      <td>1.160567</td>\n",
       "      <td>0.852239</td>\n",
       "      <td>1.300667</td>\n",
       "      <td>0.425774</td>\n",
       "      <td>1.524319</td>\n",
       "      <td>0.897228</td>\n",
       "      <td>1.132210</td>\n",
       "      <td>0.852345</td>\n",
       "      <td>Notebook</td>\n",
       "    </tr>\n",
       "    <tr>\n",
       "      <th>2</th>\n",
       "      <td>3.07</td>\n",
       "      <td>3.250578</td>\n",
       "      <td>3.296642</td>\n",
       "      <td>28.901722</td>\n",
       "      <td>7.726107</td>\n",
       "      <td>9.185737</td>\n",
       "      <td>9.997531</td>\n",
       "      <td>13.401718</td>\n",
       "      <td>53.479286</td>\n",
       "      <td>8.655162</td>\n",
       "      <td>...</td>\n",
       "      <td>0.802962</td>\n",
       "      <td>0.547124</td>\n",
       "      <td>0.942776</td>\n",
       "      <td>0.718461</td>\n",
       "      <td>0.779437</td>\n",
       "      <td>0.926345</td>\n",
       "      <td>1.893492</td>\n",
       "      <td>0.777703</td>\n",
       "      <td>0.770305</td>\n",
       "      <td>Notebook</td>\n",
       "    </tr>\n",
       "    <tr>\n",
       "      <th>3</th>\n",
       "      <td>1.94</td>\n",
       "      <td>0.968233</td>\n",
       "      <td>4.019366</td>\n",
       "      <td>27.971932</td>\n",
       "      <td>10.626979</td>\n",
       "      <td>7.588198</td>\n",
       "      <td>9.675171</td>\n",
       "      <td>14.644327</td>\n",
       "      <td>55.259634</td>\n",
       "      <td>3.368294</td>\n",
       "      <td>...</td>\n",
       "      <td>1.568216</td>\n",
       "      <td>1.422735</td>\n",
       "      <td>0.251880</td>\n",
       "      <td>0.763626</td>\n",
       "      <td>1.406309</td>\n",
       "      <td>1.429444</td>\n",
       "      <td>0.035365</td>\n",
       "      <td>1.100480</td>\n",
       "      <td>0.615161</td>\n",
       "      <td>Notebook</td>\n",
       "    </tr>\n",
       "    <tr>\n",
       "      <th>4</th>\n",
       "      <td>4.44</td>\n",
       "      <td>1.646007</td>\n",
       "      <td>4.716094</td>\n",
       "      <td>32.419320</td>\n",
       "      <td>8.428120</td>\n",
       "      <td>8.383729</td>\n",
       "      <td>11.016293</td>\n",
       "      <td>12.865954</td>\n",
       "      <td>56.504946</td>\n",
       "      <td>12.448456</td>\n",
       "      <td>...</td>\n",
       "      <td>2.359542</td>\n",
       "      <td>0.006621</td>\n",
       "      <td>0.500235</td>\n",
       "      <td>0.081978</td>\n",
       "      <td>0.039892</td>\n",
       "      <td>2.824678</td>\n",
       "      <td>1.531935</td>\n",
       "      <td>0.927873</td>\n",
       "      <td>1.221977</td>\n",
       "      <td>Notebook</td>\n",
       "    </tr>\n",
       "  </tbody>\n",
       "</table>\n",
       "<p>5 rows × 101 columns</p>\n",
       "</div>"
      ],
      "text/plain": [
       "      0         1         2          3          4         5          6  \\\n",
       "0  3.93  2.513044  8.163932  33.629912   7.659697  6.725006  10.643506   \n",
       "1  1.00  0.191735  4.678745  23.926314   8.975643  6.839434   8.616491   \n",
       "2  3.07  3.250578  3.296642  28.901722   7.726107  9.185737   9.997531   \n",
       "3  1.94  0.968233  4.019366  27.971932  10.626979  7.588198   9.675171   \n",
       "4  4.44  1.646007  4.716094  32.419320   8.428120  8.383729  11.016293   \n",
       "\n",
       "           7          8          9    ...           91        92        93  \\\n",
       "0  13.177546  59.482317  10.749250    ...     1.888285  2.273819  1.312697   \n",
       "1  10.477577  54.968947   3.580283    ...     0.184238  1.160567  0.852239   \n",
       "2  13.401718  53.479286   8.655162    ...     0.802962  0.547124  0.942776   \n",
       "3  14.644327  55.259634   3.368294    ...     1.568216  1.422735  0.251880   \n",
       "4  12.865954  56.504946  12.448456    ...     2.359542  0.006621  0.500235   \n",
       "\n",
       "         94        95        96        97        98        99       100  \n",
       "0  1.323685  2.193599  2.599519  2.390184  3.165756  0.534784  Notebook  \n",
       "1  1.300667  0.425774  1.524319  0.897228  1.132210  0.852345  Notebook  \n",
       "2  0.718461  0.779437  0.926345  1.893492  0.777703  0.770305  Notebook  \n",
       "3  0.763626  1.406309  1.429444  0.035365  1.100480  0.615161  Notebook  \n",
       "4  0.081978  0.039892  2.824678  1.531935  0.927873  1.221977  Notebook  \n",
       "\n",
       "[5 rows x 101 columns]"
      ]
     },
     "execution_count": 58,
     "metadata": {},
     "output_type": "execute_result"
    }
   ],
   "source": [
    "dataset = pd.read_csv('../CreatingDataset/FrequencyDomain/Dataset.csv')\n",
    "dataset.head()"
   ]
  },
  {
   "cell_type": "markdown",
   "metadata": {},
   "source": [
    "## Partição Holdout 80/20"
   ]
  },
  {
   "cell_type": "code",
   "execution_count": 59,
   "metadata": {},
   "outputs": [],
   "source": [
    "device_position = '100'\n",
    "\n",
    "y = dataset[device_position]\n",
    "x = dataset.drop([device_position], axis=1)\n",
    "X_train, X_test, Y_train, Y_test = train_test_split(x, y, test_size=0.20)"
   ]
  },
  {
   "cell_type": "markdown",
   "metadata": {},
   "source": [
    "## Treinamento e Teste Centróides mais próximas"
   ]
  },
  {
   "cell_type": "code",
   "execution_count": 60,
   "metadata": {},
   "outputs": [
    {
     "name": "stdout",
     "output_type": "stream",
     "text": [
      "Acurácia: 0.49666666666666665\n"
     ]
    }
   ],
   "source": [
    "nc = NearestCentroid()\n",
    "nc.fit(X_train, Y_train)\n",
    "previsaoNC = nc.predict(X_test)\n",
    "\n",
    "print('Acurácia:',accuracy_score(Y_test, previsaoNC))"
   ]
  },
  {
   "cell_type": "markdown",
   "metadata": {},
   "source": [
    "## Treinamento e Teste KNN; K=5"
   ]
  },
  {
   "cell_type": "code",
   "execution_count": 61,
   "metadata": {},
   "outputs": [
    {
     "name": "stdout",
     "output_type": "stream",
     "text": [
      "Acurácia: 0.5133333333333333\n"
     ]
    }
   ],
   "source": [
    "knn = KNeighborsClassifier(n_neighbors=5)\n",
    "knn.fit(X_train, Y_train)\n",
    "\n",
    "previsaokNN = knn.predict(X_test)\n",
    "\n",
    "print('Acurácia:',accuracy_score(Y_test, previsaokNN))"
   ]
  },
  {
   "cell_type": "markdown",
   "metadata": {},
   "source": [
    "## Treino e Teste Gaussian Naive Bayes"
   ]
  },
  {
   "cell_type": "code",
   "execution_count": 62,
   "metadata": {},
   "outputs": [
    {
     "data": {
      "text/plain": [
       "0.7133333333333334"
      ]
     },
     "execution_count": 62,
     "metadata": {},
     "output_type": "execute_result"
    }
   ],
   "source": [
    "gnb = GaussianNB()\n",
    "gnb.fit(X_train, Y_train)\n",
    "\n",
    "previsaoGNB = gnb.predict(X_test)\n",
    "\n",
    "accuracy_score(Y_test, previsaoGNB)"
   ]
  },
  {
   "cell_type": "markdown",
   "metadata": {},
   "source": [
    "## Treinamento e Teste MLP"
   ]
  },
  {
   "cell_type": "code",
   "execution_count": 81,
   "metadata": {},
   "outputs": [
    {
     "name": "stdout",
     "output_type": "stream",
     "text": [
      "Acurácia: 0.8233333333333334\n"
     ]
    }
   ],
   "source": [
    "MLP = MLPClassifier(hidden_layer_sizes=(30,25,20),\n",
    "                     max_iter=300, \n",
    "                     activation='identity', \n",
    "                     learning_rate='constant',\n",
    "                     learning_rate_init=0.005,\n",
    "                     batch_size = 3,\n",
    "                     solver='lbfgs')\n",
    "MLP.fit(X_train, Y_train)\n",
    "previsaoMLP = MLP.predict(X_test)\n",
    "\n",
    "print('Acurácia:', accuracy_score(Y_test, previsaoMLP))"
   ]
  }
 ],
 "metadata": {
  "kernelspec": {
   "display_name": "Python 3",
   "language": "python",
   "name": "python3"
  },
  "language_info": {
   "codemirror_mode": {
    "name": "ipython",
    "version": 3
   },
   "file_extension": ".py",
   "mimetype": "text/x-python",
   "name": "python",
   "nbconvert_exporter": "python",
   "pygments_lexer": "ipython3",
   "version": "3.6.5"
  }
 },
 "nbformat": 4,
 "nbformat_minor": 2
}
